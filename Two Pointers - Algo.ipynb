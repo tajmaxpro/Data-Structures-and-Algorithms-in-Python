{
 "cells": [
  {
   "cell_type": "markdown",
   "id": "c65565d5",
   "metadata": {},
   "source": [
    "### Two-pointers is an extremely common technique used to solve array and string problems. It involves having two integer variables that both move along an iterable. In this article, we are focusing on arrays and strings. This means we will have two integers, usually named something like i and j, or left and right which each represent an index of the array or string.\n",
    "\n",
    "There are several ways to implement two-pointers. To start, let's look at the following method:"
   ]
  },
  {
   "cell_type": "markdown",
   "id": "1eb336b9",
   "metadata": {},
   "source": [
    "# Example 1: Return true if a given string is a palindrome, false otherwise.\n",
    "\n",
    "A string is a palindrome if it reads the same forwards as backwards. That means, after reversing it, it is still the same string. For example: \"abcdcba\", or \"racecar\".\n",
    "\n",
    "n is the total number of characters, so n - i - 1 corresponds to the last, second last, third last etc. character. The -1 is necessary since the inputs are 0-indexed."
   ]
  },
  {
   "cell_type": "code",
   "execution_count": 1,
   "id": "4f7267b2",
   "metadata": {},
   "outputs": [
    {
     "data": {
      "text/plain": [
       "True"
      ]
     },
     "execution_count": 1,
     "metadata": {},
     "output_type": "execute_result"
    }
   ],
   "source": [
    "def check_if_palindrome(s):\n",
    "    left = 0\n",
    "    right = len(s) - 1\n",
    "\n",
    "    while left < right:\n",
    "        if s[left] != s[right]:\n",
    "            return False\n",
    "        left += 1\n",
    "        right -= 1\n",
    "\n",
    "    return True\n",
    "\n",
    "check_if_palindrome(\"racecar\")"
   ]
  },
  {
   "cell_type": "code",
   "execution_count": 2,
   "id": "14593466",
   "metadata": {},
   "outputs": [
    {
     "data": {
      "text/plain": [
       "True"
      ]
     },
     "execution_count": 2,
     "metadata": {},
     "output_type": "execute_result"
    }
   ],
   "source": [
    "def palindrome(arr):\n",
    "    n = len(arr)\n",
    "    i = 0\n",
    "    while i < n - i - 1:\n",
    "        if arr[i] != arr[n - i - 1]:\n",
    "            return False\n",
    "        i += 1\n",
    "        \n",
    "    return True\n",
    "palindrome('123321')"
   ]
  },
  {
   "cell_type": "markdown",
   "id": "c6945627",
   "metadata": {},
   "source": [
    "# Example 2: Given a sorted array of unique integers and a target integer, return true if there exists a pair of numbers that sum to target, false otherwise. This problem is similar to Two Sum.\n",
    "\n",
    "For example, given nums = [1, 2, 4, 6, 8, 9, 14, 15] and target = 13, return true because 4 + 9 = 13.\n",
    "\n",
    "\n",
    "Let's use the example input. With two pointers, we start by looking at the first and last number. Their sum is 1 + 15 = 16. Because 16 > target, we need to make our current sum smaller. Therefore, we should move the right pointer. Now, we have 1 + 14 = 15. Again, move the right pointer because the sum is too large. Now, 1 + 9 = 10. Since the sum is too small, we need to make it bigger, which can be done by moving the left pointer. 2 + 9 = 11 < target, so move it again. Finally, 4 + 9 = 13 = target.\n",
    "\n",
    "The reason this algorithm works: because the numbers are sorted, moving the left pointer permanently increases the value the left pointer points to (nums[left] = x). Similarly, moving the right pointer permanently decreases the value the right pointer points to (nums[right] = y). If we have x + y > target, then we can never have a solution with y because x can only increase. So if a solution exists, we can only find it by decreasing y. The same logic can be applied to x if x + y < target."
   ]
  },
  {
   "cell_type": "code",
   "execution_count": 4,
   "id": "5dcadb0c",
   "metadata": {},
   "outputs": [
    {
     "data": {
      "text/plain": [
       "True"
      ]
     },
     "execution_count": 4,
     "metadata": {},
     "output_type": "execute_result"
    }
   ],
   "source": [
    "def check_for_target(nums, target):\n",
    "    left = 0\n",
    "    right = len(nums) - 1\n",
    "\n",
    "    while left < right:\n",
    "        curr = nums[left] + nums[right]\n",
    "        if curr == target:\n",
    "            return True\n",
    "            #return left, right\n",
    "            #return nums[left], nums[right]\n",
    "        if curr > target:\n",
    "            right -= 1\n",
    "        else:\n",
    "            left += 1\n",
    "    return False\n",
    "\n",
    "check_for_target([1, 2, 4, 6, 8, 9, 14, 15], 13)"
   ]
  },
  {
   "cell_type": "markdown",
   "id": "dfd64c8c",
   "metadata": {},
   "source": [
    "# 1. Two Sum\n",
    "\n",
    "Given an array of integers nums and an integer target, return indices of the two numbers such that they add up to target.\n",
    "\n",
    "You may assume that each input would have exactly one solution, and you may not use the same element twice.\n",
    "\n",
    "You can return the answer in any order.\n",
    "\n",
    " \n",
    "\n",
    "Example 1:\n",
    "\n",
    "Input: nums = [2,7,11,15], target = 9\n",
    "\n",
    "Output: [0,1]\n",
    "\n",
    "Explanation: Because nums[0] + nums[1] == 9, we return [0, 1].\n",
    "\n",
    "Example 2:\n",
    "\n",
    "Input: nums = [3,2,4], target = 6\n",
    "\n",
    "Output: [1,2]\n",
    "\n",
    "Example 3:\n",
    "\n",
    "Input: nums = [3,3], target = 6\n",
    "\n",
    "Output: [0,1]"
   ]
  },
  {
   "cell_type": "code",
   "execution_count": 5,
   "id": "6cf4a47e",
   "metadata": {},
   "outputs": [
    {
     "name": "stdout",
     "output_type": "stream",
     "text": [
      "(0, 1)\n"
     ]
    }
   ],
   "source": [
    "class Solution(object):\n",
    "    def twoSum(self, nums, target):\n",
    "        \"\"\"\n",
    "        :type nums: List[int]\n",
    "        :type target: int\n",
    "        :rtype: List[int]\n",
    "        \"\"\"\n",
    "        for i in range(len(nums)):\n",
    "            for j in range(i+1, len(nums)):\n",
    "                if nums[i] + nums[j] == target:\n",
    "                    return (i, j)\n",
    "\n",
    "obj = Solution()\n",
    "print(obj.twoSum([2,7,11,15], 9))                "
   ]
  },
  {
   "cell_type": "code",
   "execution_count": 6,
   "id": "b06cfbcb",
   "metadata": {},
   "outputs": [
    {
     "name": "stdout",
     "output_type": "stream",
     "text": [
      "(1, 2)\n"
     ]
    }
   ],
   "source": [
    "class Solution(object):\n",
    "    def twoSum(self, nums, target):\n",
    "        output = []\n",
    "        for idx, number1 in enumerate(nums):\n",
    "            for idx1, number2 in enumerate(nums[idx+1:],idx+1):\n",
    "                if target == number1 + number2:\n",
    "                    return idx, idx1\n",
    "                  \n",
    "obj = Solution()\n",
    "print(obj.twoSum([3,2,4], 6))"
   ]
  },
  {
   "cell_type": "code",
   "execution_count": 7,
   "id": "2e2737c4",
   "metadata": {},
   "outputs": [
    {
     "name": "stdout",
     "output_type": "stream",
     "text": [
      "[0, 1]\n"
     ]
    }
   ],
   "source": [
    "class Solution(object):\n",
    "    def twoSum(self, nums, target):\n",
    "        \"\"\"\n",
    "        :type nums: List[int]\n",
    "        :type target: int\n",
    "        :rtype: List[int]\n",
    "        \"\"\"\n",
    "                # Create a dictionary to store the elements of the array and their corresponding indices\n",
    "        element_indices = {}\n",
    "\n",
    "        # Loop through the array\n",
    "        for i in range(len(nums)):\n",
    "            # If the target minus the current element exists in the dictionary, return the indices of the two elements\n",
    "            if target - nums[i] in element_indices:\n",
    "                return [element_indices[target - nums[i]], i]\n",
    "\n",
    "            # Otherwise, add the current element and its index to the dictionary\n",
    "            element_indices[nums[i]] = i\n",
    "\n",
    "        # If no such elements are found, return an empty list\n",
    "        return []\n",
    "    \n",
    "obj = Solution()\n",
    "print(obj.twoSum([3,3], 6))"
   ]
  },
  {
   "cell_type": "code",
   "execution_count": 8,
   "id": "f946adc2",
   "metadata": {},
   "outputs": [
    {
     "name": "stdout",
     "output_type": "stream",
     "text": [
      "[2, 3]\n"
     ]
    }
   ],
   "source": [
    "class Solution:\n",
    "    def twoSum(self, nums, target):\n",
    "        numToIndex = {}\n",
    "        for i in range(len(nums)):\n",
    "            if target - nums[i] in numToIndex:\n",
    "                return [numToIndex[target - nums[i]], i]\n",
    "            numToIndex[nums[i]] = i\n",
    "        return []\n",
    "                  \n",
    "obj = Solution()\n",
    "print(obj.twoSum([2,7,11,15], 26))"
   ]
  },
  {
   "cell_type": "code",
   "execution_count": 9,
   "id": "809f45ba",
   "metadata": {},
   "outputs": [
    {
     "name": "stdout",
     "output_type": "stream",
     "text": [
      "[0, 1]\n"
     ]
    }
   ],
   "source": [
    "class Solution(object):\n",
    "    def twoSum(self, nums, target):\n",
    "        seen = {}\n",
    "        for i in range(len(nums)):\n",
    "            diff = target - nums[i]\n",
    "            if diff in seen:\n",
    "                return [seen[diff], i]\n",
    "            else:\n",
    "                seen[nums[i]] = i\n",
    "                \n",
    "obj = Solution()\n",
    "print(obj.twoSum([2,7,11,15], 9))                      "
   ]
  },
  {
   "cell_type": "markdown",
   "id": "436e6cbd",
   "metadata": {},
   "source": [
    "# 125. Valid Palindrome\n",
    "\n",
    "A phrase is a palindrome if, after converting all uppercase letters into lowercase letters and removing all non-alphanumeric characters, it reads the same forward and backward. Alphanumeric characters include letters and numbers.\n",
    "\n",
    "Given a string s, return true if it is a palindrome, or false otherwise.\n",
    "\n",
    " \n",
    "\n",
    "Example 1:\n",
    "\n",
    "Input: s = \"A man, a plan, a canal: Panama\"\n",
    "\n",
    "Output: true\n",
    "\n",
    "Explanation: \"amanaplanacanalpanama\" is a palindrome.\n",
    "\n",
    "Example 2:\n",
    "\n",
    "Input: s = \"race a car\"\n",
    "\n",
    "Output: false\n",
    "\n",
    "Explanation: \"raceacar\" is not a palindrome.\n",
    "\n",
    "Example 3:\n",
    "\n",
    "Input: s = \" \"\n",
    "\n",
    "Output: true\n",
    "\n",
    "Explanation: s is an empty string \"\" after removing non-alphanumeric characters.\n",
    "Since an empty string reads the same forward and backward, it is a palindrome."
   ]
  },
  {
   "cell_type": "code",
   "execution_count": 10,
   "id": "a35a47cd",
   "metadata": {},
   "outputs": [
    {
     "name": "stdout",
     "output_type": "stream",
     "text": [
      "True\n"
     ]
    }
   ],
   "source": [
    "class Solution(object):\n",
    "    def isPalindrome(self, s):\n",
    "        \"\"\"\n",
    "        :type s: str\n",
    "        :rtype: bool\n",
    "        \"\"\"\n",
    "        x = ''.join(ch for ch in s.lower() if ch.isalnum())\n",
    "        return x == x[::-1] \n",
    "    \n",
    "out = Solution()\n",
    "print(out.isPalindrome(\"A man, a plan, a canal: Panama\"))"
   ]
  },
  {
   "cell_type": "code",
   "execution_count": 11,
   "id": "5a87b288",
   "metadata": {},
   "outputs": [
    {
     "name": "stdout",
     "output_type": "stream",
     "text": [
      "True\n"
     ]
    }
   ],
   "source": [
    "class Solution(object):\n",
    "    def isPalindrome(self, s):\n",
    "        \"\"\"\n",
    "        :type s: str\n",
    "        :rtype: bool\n",
    "        \"\"\"\n",
    "        x = (''.join(ch for ch in s if ch.isalnum())).lower()\n",
    "        i, j = 0, len(x)-1\n",
    "        while i < j:\n",
    "            if x[i] != x[j]:\n",
    "                return False\n",
    "            i += 1\n",
    "            j -= 1\n",
    "        return True \n",
    "    \n",
    "out = Solution()\n",
    "print(out.isPalindrome(\"A man, a plan, a canal: Panama\"))"
   ]
  },
  {
   "cell_type": "markdown",
   "id": "48ad9e7e",
   "metadata": {},
   "source": [
    "# Example 3: Given two sorted integer arrays, return an array that combines both of them and is also sorted.\n",
    "\n",
    "We can build the answer array 'ans' one element at a time. Start two pointers at the first index of each array, and compare their elements. At each iteration, we have 2 values. Whichever value is lower needs to come first in the answer, so add it to the answer and move the respective pointer.\n",
    "\n",
    "\n"
   ]
  },
  {
   "cell_type": "code",
   "execution_count": 13,
   "id": "c27758f5",
   "metadata": {},
   "outputs": [
    {
     "data": {
      "text/plain": [
       "[1, 2, 3, 4, 5, 6, 7, 9]"
      ]
     },
     "execution_count": 13,
     "metadata": {},
     "output_type": "execute_result"
    }
   ],
   "source": [
    "def combine(arr1, arr2):\n",
    "    ans = []\n",
    "    i = j = 0\n",
    "    while i < len(arr1) and j < len(arr2):\n",
    "        if arr1[i] < arr2[j]:\n",
    "            ans.append(arr1[i])\n",
    "            i += 1\n",
    "        else:\n",
    "            ans.append(arr2[j])\n",
    "            j += 1\n",
    "    \n",
    "    while i < len(arr1):\n",
    "        ans.append(arr1[i])\n",
    "        i += 1\n",
    "    \n",
    "    while j < len(arr2):\n",
    "        ans.append(arr2[j])\n",
    "        j += 1\n",
    "    \n",
    "    return ans\n",
    "\n",
    "combine([1, 3, 5, 7, 9], [2, 4, 6])"
   ]
  },
  {
   "cell_type": "markdown",
   "id": "d219b7a8",
   "metadata": {},
   "source": [
    "# Example 4: \n",
    "# 392. Is Subsequence.\n",
    "\n",
    "Given two strings s and t, return true if s is a subsequence of t, or false otherwise.\n",
    "\n",
    "A subsequence of a string is a new string that is formed from the original string by deleting some (can be none) of the characters without disturbing the relative positions of the remaining characters. (i.e., \"ace\" is a subsequence of \"abcde\" while \"aec\" is not).\n",
    "\n",
    " \n",
    "\n",
    "Example 1:\n",
    "\n",
    "Input: s = \"abc\", t = \"ahbgdc\"\n",
    "\n",
    "Output: true\n",
    "\n",
    "Example 2:\n",
    "\n",
    "Input: s = \"axc\", t = \"ahbgdc\"\n",
    "\n",
    "Output: false\n",
    "\n",
    "\n",
    "In this problem, we need to check if the characters of s appear in the same order in t, with gaps allowed. For example, \"ace\" is a subsequence of \"abcde\" because \"abcde\" contains the letters \"ace\" in that same order - the fact that they aren't consecutive doesn't matter.\n",
    "\n",
    "We can use two pointers to solve this in linear time. If we find that s[i] == t[j], that means we \"found\" the letter at position i for s, and we can move on to the next one by incrementing i. We should increment j at each iteration no matter what (which means we could also implement this algorithm using a for loop). s is a subsequence of t if we can \"find\" all the letters of s, which means that i == s.length at the end of the algorithm."
   ]
  },
  {
   "cell_type": "code",
   "execution_count": 15,
   "id": "ddc174d4",
   "metadata": {},
   "outputs": [
    {
     "name": "stdout",
     "output_type": "stream",
     "text": [
      "True\n"
     ]
    }
   ],
   "source": [
    "class Solution(object):\n",
    "    def isSubsequence(self, s, t):\n",
    "        \"\"\"\n",
    "        :type s: str\n",
    "        :type t: str\n",
    "        :rtype: bool\n",
    "        \"\"\"\n",
    "        i = j = 0\n",
    "        while i < len(s) and j < len(t):\n",
    "            if s[i] == t[j]:\n",
    "                i += 1\n",
    "            j += 1\n",
    "        return i == len(s)\n",
    "    \n",
    "obj = Solution()\n",
    "print(obj.isSubsequence('ace', 'abcde')) "
   ]
  },
  {
   "cell_type": "code",
   "execution_count": 19,
   "id": "a20592d8",
   "metadata": {},
   "outputs": [
    {
     "name": "stdout",
     "output_type": "stream",
     "text": [
      "False\n"
     ]
    }
   ],
   "source": [
    "class Solution(object):\n",
    "    def isSubsequence(self, s, t):\n",
    "        if len(s) > len(t):\n",
    "            return False\n",
    "    \n",
    "        i = j = 0\n",
    "        while i < len(s) and j < len(t):\n",
    "            if s[i] == t[j]:\n",
    "                i += 1\n",
    "            j += 1\n",
    "        if i == len(s):\n",
    "            return True \n",
    "        return False\n",
    "   \n",
    "obj = Solution()\n",
    "print(obj.isSubsequence(\"axc\", \"ahbgdc\"))"
   ]
  },
  {
   "cell_type": "code",
   "execution_count": 20,
   "id": "754538a6",
   "metadata": {},
   "outputs": [
    {
     "name": "stdout",
     "output_type": "stream",
     "text": [
      "True\n"
     ]
    }
   ],
   "source": [
    "class Solution(object):\n",
    "    def isSubsequence(self, s, t):\n",
    "        \"\"\"\n",
    "        :type s: str\n",
    "        :type t: str\n",
    "        :rtype: bool\n",
    "        \"\"\"\n",
    "        if len(s) > len(t):\n",
    "            return False\n",
    "        \n",
    "        for letter in s:\n",
    "            if letter in t:\n",
    "                x = t.index(letter)\n",
    "                t = t[x+1:]\n",
    "            else:\n",
    "                return False\n",
    "        return True\n",
    "\n",
    "# Time O(n)\n",
    "# Space O(1)\n",
    "   \n",
    "obj = Solution()\n",
    "print(obj.isSubsequence(\"ace\", \"abcde\"))"
   ]
  },
  {
   "cell_type": "code",
   "execution_count": 21,
   "id": "dcb3852e",
   "metadata": {},
   "outputs": [
    {
     "name": "stdout",
     "output_type": "stream",
     "text": [
      "True\n"
     ]
    }
   ],
   "source": [
    "class Solution(object):\n",
    "    def isSubsequence(self, s, t):\n",
    "        \"\"\"\n",
    "        :type s: str\n",
    "        :type t: str\n",
    "        :rtype: bool\n",
    "        \"\"\"\n",
    "        ti = iter(t)\n",
    "        return all(i in ti for i in s)\n",
    "   \n",
    "obj = Solution()\n",
    "print(obj.isSubsequence(\"ace\", \"abcde\"))"
   ]
  },
  {
   "cell_type": "markdown",
   "id": "14d48625",
   "metadata": {},
   "source": [
    "# Closing notes\n",
    "\n",
    "Remember that the methods laid out here are just guidelines. For example, in the first method, we started the pointers at the first and last index, but sometimes you might find a problem that involves starting the pointers at different indices. In the second method, we moved two pointers forward along two different inputs. Sometimes, there will only be one input array/string, but we still initialize both pointers at the first index and move both of them forward.\n",
    "\n",
    "Two pointers just refers to using two integer variables to move along some iterables. The strategies we looked at in this article are the most common patterns, but always be on the lookout for a different way to approach a problem."
   ]
  }
 ],
 "metadata": {
  "kernelspec": {
   "display_name": "Python 3 (ipykernel)",
   "language": "python",
   "name": "python3"
  },
  "language_info": {
   "codemirror_mode": {
    "name": "ipython",
    "version": 3
   },
   "file_extension": ".py",
   "mimetype": "text/x-python",
   "name": "python",
   "nbconvert_exporter": "python",
   "pygments_lexer": "ipython3",
   "version": "3.9.12"
  }
 },
 "nbformat": 4,
 "nbformat_minor": 5
}
