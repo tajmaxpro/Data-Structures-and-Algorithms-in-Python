{
 "cells": [
  {
   "cell_type": "markdown",
   "id": "b9ec37bd",
   "metadata": {},
   "source": [
    "## Like two pointers, sliding windows work the same with arrays and strings - the important thing is that they're iterables with ordered elements. For the sake of brevity, the first part of this article up until the examples will be focusing on arrays. However, all the logic is identical for strings. You can swap every instance of the word \"array\" with \"string\" and it will make sense."
   ]
  },
  {
   "cell_type": "markdown",
   "id": "7df45dbf",
   "metadata": {},
   "source": [
    "### Sliding window is another common approach to solving problems related to arrays. A sliding window is actually implemented using two pointers! First, let's start by looking at the concept of a subarray. Given an array, a subarray is just a section of the array. The elements need to be contiguous and in order. For example, with the array [1, 2, 3, 4], the subarrays (grouped by length) are:\n",
    "\n",
    "[1], [2], [3], [4]\n",
    "\n",
    "[1, 2], [2, 3], [3, 4]\n",
    "\n",
    "[1, 2, 3], [2, 3, 4]\n",
    "\n",
    "[1, 2, 3, 4]"
   ]
  },
  {
   "cell_type": "markdown",
   "id": "e2adc59d",
   "metadata": {},
   "source": [
    "#### A subarray can be defined by two indices, the start and end. For example, with [1, 2, 3, 4], the subarray [2, 3] has a starting index of 1 and an ending index of 2. Let's call the starting index the left bound and the ending index the right bound. Another name for subarray in this context is \"window\", which we will use from now on.\n",
    "\n",
    "The idea behind the sliding window technique is to efficiently find the \"best\" window that fits some constraint. Usually, the problem description will define what makes a window \"better\" (shorter length, larger sum etc.) and the constraint. Imagine that a problem wanted the length of the longest subarray with a sum less than or equal to k for an array with positive numbers. In this case, the constraint is sum(window) <= k, and the longer the window, the better it is. The general algorithm behind sliding window is:\n",
    "\n",
    "Define a pointer for the left and right bound that represents the current window, usually both of them starting at 0.\n",
    "Iterate over the array with the right bound to \"add\" elements to the window.\n",
    "Whenever the constraint is broken, in this example if the sum of the window exceeds k, then \"remove\" elements from the window by incrementing the left bound until the condition is satisfied again.\n",
    "\n",
    "Here's some pseudocode illustrating the concept:"
   ]
  },
  {
   "cell_type": "code",
   "execution_count": null,
   "id": "961b3f91",
   "metadata": {},
   "outputs": [],
   "source": [
    "function fn(arr):\n",
    "    left = 0\n",
    "    for right in [0, arr.length - 1]:\n",
    "        Do some logic to \"add\" element at arr[right] to window\n",
    "\n",
    "        while left < right AND condition from problem not met:\n",
    "            Do some logic to \"remove\" element at arr[left] from window\n",
    "            left++\n",
    "\n",
    "        Do some logic to update the answer"
   ]
  },
  {
   "cell_type": "markdown",
   "id": "3b8990d0",
   "metadata": {},
   "source": [
    "# Example 1: Given an array of positive integers nums and an integer k, find the length of the longest subarray whose sum is less than or equal to k.\n",
    "\n",
    "Let's use an integer curr that tracks the sum of the current window. Since the problem wants subarrays whose sum is less than or equal to k, we want to maintain curr <= k. Let's look at an example where nums = [3, 1, 2, 7, 4, 2, 1, 1, 5] and k = 8.\n",
    "\n",
    "The window starts empty, but we can grow it to [3, 1, 2] while maintaining the constraint. However, after adding the 7, the window's sum becomes too large. We need to tighten the window until the sum is below 8 again, which doesn't happen until our window looks like [7]. When we try to add the next element, our window again becomes too large, and we need to remove the 7 which means we have [4]. We can now grow the window until it looks like [4, 2, 1, 1], but adding the next element makes the sum too large. We remove elements from the left until it fits the constraint again, which happens at [1, 1, 5]. The longest subarray we found was [4, 2, 1, 1] which means the answer is 4.\n",
    "\n",
    "When we add an element to the window by moving the right bound, we just do curr += value. When we remove an element from the window by moving the left bound, we just do curr -= value. We should remove elements so long as curr > k."
   ]
  },
  {
   "cell_type": "code",
   "execution_count": 3,
   "id": "2c9bd161",
   "metadata": {},
   "outputs": [
    {
     "data": {
      "text/plain": [
       "4"
      ]
     },
     "execution_count": 3,
     "metadata": {},
     "output_type": "execute_result"
    }
   ],
   "source": [
    "def find_length(nums, k):\n",
    "    left = curr = ans = 0\n",
    "    for right in range(len(nums)):\n",
    "        curr += nums[right]\n",
    "        while curr > k:\n",
    "            curr -= nums[left]\n",
    "            left += 1\n",
    "        ans = max(ans, right - left + 1)\n",
    "    \n",
    "    return ans\n",
    "         \n",
    "find_length([3, 1, 2, 7, 4, 2, 1, 1, 5], 8)"
   ]
  },
  {
   "cell_type": "markdown",
   "id": "047d0404",
   "metadata": {},
   "source": [
    "Given a subarray starting at left and ending at right, the length is right - left + 1. As mentioned before, this algorithm has a time complexity of \n",
    "�\n",
    "(\n",
    "�\n",
    ")\n",
    "O(n) since all work done inside the for loop is \n",
    "�\n",
    "(\n",
    "1\n",
    ")\n",
    "O(1), where \n",
    "�\n",
    "n is the length of nums. The space complexity is constant because we are only using 3 integer variables."
   ]
  },
  {
   "cell_type": "markdown",
   "id": "522cabf0",
   "metadata": {},
   "source": [
    "# Example 2: You are given a binary substring s (a string containing only \"0\" and \"1\"). An operation involves flipping a \"0\" into a \"1\". What is the length of the longest substring containing only \"1\" after performing at most one operation?\n",
    "\n",
    "For example, given s = \"1101100111\", the answer is 5. If you perform the operation at index 2, the string becomes 1111100111.\n",
    "\n",
    "# No answer"
   ]
  },
  {
   "cell_type": "markdown",
   "id": "a662a19e",
   "metadata": {},
   "source": [
    "# Another promlem:"
   ]
  },
  {
   "cell_type": "code",
   "execution_count": 1,
   "id": "225bfbef",
   "metadata": {},
   "outputs": [
    {
     "data": {
      "text/plain": [
       "4"
      ]
     },
     "execution_count": 1,
     "metadata": {},
     "output_type": "execute_result"
    }
   ],
   "source": [
    "def find_length(s):\n",
    "    left = curr = ans = 0 \n",
    "    for right in range(len(s)):\n",
    "        if s[right] == \"0\":\n",
    "            curr += 1\n",
    "        while curr > 1:\n",
    "            if s[left] == \"0\":\n",
    "                curr -= 1\n",
    "            left += 1\n",
    "        ans = max(ans, right - left + 1)\n",
    "    \n",
    "    return ans\n",
    "\n",
    "find_length('11001011')"
   ]
  },
  {
   "cell_type": "markdown",
   "id": "93464be6",
   "metadata": {},
   "source": [
    "# Number of subarrays\n",
    "If a problem asks for the number of subarrays that fit some constraint, we can still use sliding window, but we need to use a neat math trick to calculate the number of subarrays."
   ]
  },
  {
   "cell_type": "markdown",
   "id": "bed48b4b",
   "metadata": {},
   "source": [
    "# Example 3: \n",
    "# 713. Subarray Product Less Than K.\n",
    "\n",
    "Given an array of positive integers nums and an integer k, return the number of contiguous subarrays where the product of all the elements in the subarray is strictly less than k.\n",
    "\n",
    "Example 1:\n",
    "\n",
    "Input: nums = [10,5,2,6], k = 100\n",
    "\n",
    "Output: 8\n",
    "\n",
    "Explanation: The 8 subarrays that have product less than 100 are:\n",
    "\n",
    "[10], [5], [2], [6], [10, 5], [5, 2], [2, 6], [5, 2, 6]\n",
    "\n",
    "Note that [10, 5, 2] is not included as the product of 100 is not strictly less than k.\n",
    "\n",
    "Example 2:\n",
    "\n",
    "Input: nums = [1,2,3], k = 0\n",
    "\n",
    "Output: 0\n",
    "\n",
    "For example, given the input nums = [10, 5, 2, 6], k = 100, the answer is 8. The subarrays with products less than k are:\n",
    "\n",
    "[10], [5], [2], [6], [10, 5], [5, 2], [2, 6], [5, 2, 6]\n",
    "\n",
    "Key idea: Whenever you see a problem asking for the number of subarrays, think of this: at each index, how many valid subarrays end at this index? Let's split the 8 subarrays by their ending indices:\n",
    "\n",
    "[10]\n",
    "\n",
    "[5], [10, 5]\n",
    "\n",
    "[2], [5, 2]\n",
    "\n",
    "[6], [2, 6], [5, 2, 6]\n",
    "\n",
    "Do you notice a pattern? For each index, the number of subarrays ending at that index is the length of the window after reaching that index. For any given ending index right, a subarray could start at any index between left and right, which is a total of right - left + 1 (the window size) starting indices.\n",
    "\n",
    "For example, after reaching the 2, the product is too large, so we remove the 10. Now, the window is valid, and it has a length of 2. That means that there are 2 valid subarrays that end here ([2] and [5, 2]).\n",
    "\n",
    "We can use this idea to solve the problem. Do a normal sliding window with the constraint of the product being less than k, and at each index, add the length of the window (right - left + 1) to the answer."
   ]
  },
  {
   "cell_type": "code",
   "execution_count": 2,
   "id": "c7f28e90",
   "metadata": {},
   "outputs": [
    {
     "name": "stdout",
     "output_type": "stream",
     "text": [
      "8\n"
     ]
    }
   ],
   "source": [
    "class Solution:\n",
    "    def numSubarrayProductLessThanK(self, nums: list[int], k: int) -> int:\n",
    "        if k <= 1:\n",
    "            return 0\n",
    "\n",
    "        ans = left = 0\n",
    "        curr = 1\n",
    "\n",
    "        for right in range(len(nums)):\n",
    "            curr *= nums[right]\n",
    "            while curr >= k:\n",
    "                curr //= nums[left]\n",
    "                left += 1\n",
    "            ans += right - left + 1\n",
    "\n",
    "        return ans\n",
    "    \n",
    "obj = Solution()\n",
    "print(obj.numSubarrayProductLessThanK([10, 5, 2, 6], 100))"
   ]
  },
  {
   "cell_type": "code",
   "execution_count": 3,
   "id": "e9e8e40a",
   "metadata": {},
   "outputs": [
    {
     "name": "stdout",
     "output_type": "stream",
     "text": [
      "8\n"
     ]
    }
   ],
   "source": [
    "class Solution(object):\n",
    "    def numSubarrayProductLessThanK(self, nums, k):\n",
    "        \"\"\"\n",
    "        :type nums: List[int]\n",
    "        :type k: int\n",
    "        :rtype: int\n",
    "        \"\"\"\n",
    "        if k <= 1:\n",
    "            return 0\n",
    "\n",
    "        ans = left = 0\n",
    "        curr = 1\n",
    "\n",
    "        for right in range(len(nums)):\n",
    "            curr *= nums[right]\n",
    "            while curr >= k:\n",
    "                curr //= nums[left]\n",
    "                left += 1\n",
    "            ans += right - left + 1\n",
    "\n",
    "        return ans\n",
    "    \n",
    "obj = Solution()\n",
    "print(obj.numSubarrayProductLessThanK([10, 5, 2, 6], 100))"
   ]
  },
  {
   "cell_type": "markdown",
   "id": "a0b0b9a2",
   "metadata": {},
   "source": [
    "Again, the work done in each loop iteration is constant, so this algorithm has a runtime of O(n), where n is the length of nums, and O(1) space."
   ]
  },
  {
   "cell_type": "markdown",
   "id": "e4785015",
   "metadata": {},
   "source": [
    "# Example 4: Given an integer array nums and an integer k, find the sum of the subarray with the largest sum whose length is k."
   ]
  },
  {
   "cell_type": "markdown",
   "id": "5aba011b",
   "metadata": {},
   "source": [
    "As we mentioned before, we can build a window of length k and then slide it along the array. Add and remove one element at a time to make sure the window stays size k. If we are adding the value at i, then we need to remove the value at i - k."
   ]
  },
  {
   "cell_type": "code",
   "execution_count": 1,
   "id": "5a1cd7b4",
   "metadata": {},
   "outputs": [
    {
     "name": "stdout",
     "output_type": "stream",
     "text": [
      "18\n"
     ]
    }
   ],
   "source": [
    "def find_best_subarray(nums, k):\n",
    "    curr = 0\n",
    "    for i in range(k):\n",
    "        curr += nums[i]\n",
    "    \n",
    "    ans = curr\n",
    "    for i in range(k, len(nums)):\n",
    "        curr += nums[i] - nums[i - k]\n",
    "        ans = max(ans, curr)\n",
    "    \n",
    "    return ans\n",
    "\n",
    "print(find_best_subarray([3, -1, 4, 12, -8, 5, 6], 4))"
   ]
  },
  {
   "cell_type": "markdown",
   "id": "58e9ddd8",
   "metadata": {},
   "source": [
    "The total for loop iterations is equal to n, where n is the length of nums, and the work done in each iteration is constant, giving this algorithm a time complexity of O(n), using O(1) space."
   ]
  },
  {
   "cell_type": "markdown",
   "id": "7167b0db",
   "metadata": {},
   "source": [
    "# Closing notes\n",
    "Sliding window is extremely common and versatile as a pattern. We only scratched the surface here because many sliding window problems will also need to use a hashmap, which we will talk about in the hashing chapter. After learning about hashmaps, we'll look at some more sliding window problems. In the meantime, test your knowledge by solving the upcoming practice problems."
   ]
  },
  {
   "cell_type": "markdown",
   "id": "7ec0ebd0",
   "metadata": {},
   "source": [
    "# 121. Best Time to Buy and Sell Stock\n",
    "\n",
    "You are given an array prices where prices[i] is the price of a given stock on the ith day.\n",
    "\n",
    "You want to maximize your profit by choosing a single day to buy one stock and choosing a different day in the future to sell that stock.\n",
    "\n",
    "Return the maximum profit you can achieve from this transaction. If you cannot achieve any profit, return 0.\n",
    "\n",
    " \n",
    "\n",
    "Example 1:\n",
    "\n",
    "Input: prices = [7,1,5,3,6,4]\n",
    "\n",
    "Output: 5\n",
    "\n",
    "Explanation: Buy on day 2 (price = 1) and sell on day 5 (price = 6), profit = 6-1 = 5.\n",
    "\n",
    "Note that buying on day 2 and selling on day 1 is not allowed because you must buy before you sell.\n",
    "\n",
    "Example 2:\n",
    "\n",
    "Input: prices = [7,6,4,3,1]\n",
    "\n",
    "Output: 0\n",
    "\n",
    "Explanation: In this case, no transactions are done and the max profit = 0."
   ]
  },
  {
   "cell_type": "code",
   "execution_count": 1,
   "id": "4fbf167a",
   "metadata": {},
   "outputs": [
    {
     "name": "stdout",
     "output_type": "stream",
     "text": [
      "5\n"
     ]
    }
   ],
   "source": [
    "class Solution(object):\n",
    "    def maxProfit(self, prices):\n",
    "        \"\"\"\n",
    "        :type prices: List[int]\n",
    "        :rtype: int\n",
    "        \"\"\"\n",
    "        l, r, maxPro = 0, 1, 0\n",
    "        while r < len(prices):\n",
    "            if prices[l] < prices[r]:\n",
    "                profit = prices[r] - prices[l]\n",
    "                maxPro = max(maxPro, profit)\n",
    "            else:\n",
    "                l = r\n",
    "            r += 1\n",
    "        return maxPro   \n",
    "   \n",
    "obj = Solution()\n",
    "print(obj.maxProfit([7,1,5,3,6,4]))"
   ]
  },
  {
   "cell_type": "markdown",
   "id": "df4b15b5",
   "metadata": {},
   "source": [
    "https://assets.leetcode.com/users/images/c0c86dc7-f7fa-4be7-85f9-61e629aa67ae_1643686591.6894035.jpeg"
   ]
  },
  {
   "cell_type": "code",
   "execution_count": 4,
   "id": "62eb9625",
   "metadata": {},
   "outputs": [
    {
     "name": "stdout",
     "output_type": "stream",
     "text": [
      "0\n"
     ]
    }
   ],
   "source": [
    "class Solution(object):\n",
    "    def maxProfit(self, prices):\n",
    "        \"\"\"\n",
    "        :type prices: List[int]\n",
    "        :rtype: int\n",
    "        \"\"\"\n",
    "        l, r, maxPro = 0, 1, 0\n",
    "        while r < len(prices):\n",
    "            if prices[l] < prices[r]:\n",
    "                maxPro = max(maxPro, prices[r] - prices[l])\n",
    "            else:\n",
    "                l = r\n",
    "            r += 1\n",
    "        return maxPro   \n",
    "   \n",
    "obj = Solution()\n",
    "print(obj.maxProfit([7,6,4,3,1]))"
   ]
  },
  {
   "cell_type": "code",
   "execution_count": 5,
   "id": "d67d3473",
   "metadata": {},
   "outputs": [
    {
     "name": "stdout",
     "output_type": "stream",
     "text": [
      "5\n"
     ]
    }
   ],
   "source": [
    "class Solution(object):\n",
    "    def maxProfit(self, prices):\n",
    "        \"\"\"\n",
    "        :type prices: List[int]\n",
    "        :rtype: int\n",
    "        \"\"\"\n",
    "        max_profit = 0\n",
    "        current_min = prices[0] \n",
    "        current_max = prices[0]\n",
    "\n",
    "        for price in prices:\n",
    "            if current_max < price:\n",
    "                current_max = price\n",
    "                max_profit = max(max_profit, price - current_min)\n",
    "            \n",
    "            if current_min > price:\n",
    "                current_min = price\n",
    "                current_max = price\n",
    "\n",
    "        return max_profit\n",
    "    \n",
    "obj = Solution()\n",
    "print(obj.maxProfit([7,1,5,3,6,4]))"
   ]
  },
  {
   "cell_type": "code",
   "execution_count": 8,
   "id": "dfbd64ec",
   "metadata": {},
   "outputs": [
    {
     "name": "stdout",
     "output_type": "stream",
     "text": [
      "5\n"
     ]
    }
   ],
   "source": [
    "class Solution(object):\n",
    "    def maxProfit(self, prices):\n",
    "        left = prices[0]\n",
    "        maxPro = 0\n",
    "        for price in prices:\n",
    "            maxPro = max(price - left, maxPro)\n",
    "            left = min(left, price)\n",
    "        return maxPro\n",
    "               \n",
    "obj = Solution()\n",
    "print(obj.maxProfit([7,1,5,3,6,4]))"
   ]
  },
  {
   "cell_type": "code",
   "execution_count": 1,
   "id": "a30597e8",
   "metadata": {},
   "outputs": [
    {
     "name": "stdout",
     "output_type": "stream",
     "text": [
      "5\n"
     ]
    }
   ],
   "source": [
    "class Solution:\n",
    "    def maxProfit(self, prices):\n",
    "        res = 0\n",
    "        lowest = prices[0]\n",
    "        for price in prices:\n",
    "            if price < lowest:\n",
    "                lowest = price\n",
    "            res = max(res, price - lowest)\n",
    "        return res\n",
    "\n",
    "obj = Solution()\n",
    "print(obj.maxProfit([7,1,5,3,6,4]))"
   ]
  },
  {
   "cell_type": "code",
   "execution_count": 2,
   "id": "47fea3e1",
   "metadata": {},
   "outputs": [],
   "source": [
    "def build_string(s):\n",
    "    arr = []\n",
    "    for c in s:\n",
    "        arr.append(c)\n",
    "\n",
    "    return \"\".join(arr)"
   ]
  },
  {
   "cell_type": "markdown",
   "id": "09e7607e",
   "metadata": {},
   "source": [
    "# 3. Longest Substring Without Repeating Characters\n",
    "\n",
    "Given a string s, find the length of the longest \n",
    "substring\n",
    " without repeating characters.\n",
    "\n",
    " \n",
    "\n",
    "Example 1:\n",
    "\n",
    "Input: s = \"abcabcbb\"\n",
    "\n",
    "Output: 3\n",
    "\n",
    "Explanation: The answer is \"abc\", with the length of 3.\n",
    "\n",
    "Example 2:\n",
    "\n",
    "Input: s = \"bbbbb\"\n",
    "\n",
    "Output: 1\n",
    "\n",
    "Explanation: The answer is \"b\", with the length of 1.\n",
    "\n",
    "Example 3:\n",
    "\n",
    "Input: s = \"pwwkew\"\n",
    "\n",
    "Output: 3\n",
    "\n",
    "Explanation: The answer is \"wke\", with the length of 3.\n",
    "\n",
    "Notice that the answer must be a substring, \"pwke\" is a subsequence and not a substring."
   ]
  },
  {
   "cell_type": "code",
   "execution_count": 1,
   "id": "6e7da5b3",
   "metadata": {},
   "outputs": [
    {
     "name": "stdout",
     "output_type": "stream",
     "text": [
      "3\n"
     ]
    }
   ],
   "source": [
    "class Solution(object):\n",
    "    def lengthOfLongestSubstring(self, s):\n",
    "        \"\"\"\n",
    "        :type s: str\n",
    "        :rtype: int\n",
    "        \"\"\"\n",
    "        j = ans = 0\n",
    "        for i in range(len(s)):\n",
    "            while s[i] in s[j:i]:\n",
    "                j += 1\n",
    "            ans = max(ans, i - j + 1)\n",
    "        return ans \n",
    "    \n",
    "obj = Solution()\n",
    "print(obj.lengthOfLongestSubstring(\"pwwkew\"))"
   ]
  },
  {
   "cell_type": "code",
   "execution_count": 2,
   "id": "2a2818dd",
   "metadata": {},
   "outputs": [
    {
     "name": "stdout",
     "output_type": "stream",
     "text": [
      "3\n"
     ]
    }
   ],
   "source": [
    "class Solution(object):\n",
    "    def lengthOfLongestSubstring(self, s):\n",
    "        \"\"\"\n",
    "        :type s: str\n",
    "        :rtype: int\n",
    "        \"\"\"\n",
    "        used = {}\n",
    "        max_length = start = 0\n",
    "        for i, c in enumerate(s):\n",
    "            if c in used and start <= used[c]:\n",
    "                start = used[c] + 1\n",
    "            else:\n",
    "                max_length = max(max_length, i - start + 1)\n",
    "            used[c] = i\n",
    "        return max_length\n",
    "    \n",
    "obj = Solution()\n",
    "print(obj.lengthOfLongestSubstring(\"pwwkew\"))"
   ]
  },
  {
   "cell_type": "code",
   "execution_count": null,
   "id": "866cf8f9",
   "metadata": {},
   "outputs": [],
   "source": []
  }
 ],
 "metadata": {
  "kernelspec": {
   "display_name": "Python 3 (ipykernel)",
   "language": "python",
   "name": "python3"
  },
  "language_info": {
   "codemirror_mode": {
    "name": "ipython",
    "version": 3
   },
   "file_extension": ".py",
   "mimetype": "text/x-python",
   "name": "python",
   "nbconvert_exporter": "python",
   "pygments_lexer": "ipython3",
   "version": "3.9.12"
  }
 },
 "nbformat": 4,
 "nbformat_minor": 5
}
