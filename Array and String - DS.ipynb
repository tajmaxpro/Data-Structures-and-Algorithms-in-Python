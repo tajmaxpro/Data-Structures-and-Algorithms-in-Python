{
 "cells": [
  {
   "attachments": {
    "image.png": {
     "image/png": "[encoded data removed]"
    }
   },
   "cell_type": "markdown",
   "id": "ff057ce7",
   "metadata": {},
   "source": [
    "# Introduction to Array\n",
    "\n",
    "An __array__ is a basic data structure to __store a collection of elements sequentially.__ But elements can be __accessed randomly__ since each element in the array can be identified by an array __index__.\n",
    "\n",
    "An array can have one or more dimensions. Here we start with the __one-dimensional array__, which is also called the linear array. Here is an example:\n",
    "\n",
    "![image.png](attachment:image.png)\n",
    "\n",
    "In the above example, there are 6 elements in array A. That is to say, the length of A is 6. We can use A[0] to represent the first element in the array. Therefore, A[0] = 6. Similarly, A[1] = 3, A[2] = 8 and so on."
   ]
  },
  {
   "cell_type": "code",
   "execution_count": 6,
   "id": "9b6c18fa",
   "metadata": {},
   "outputs": [
    {
     "name": "stdout",
     "output_type": "stream",
     "text": [
      "The size of a1 is:  5\n",
      "The first element is:  1\n",
      "[Version 1] The contents of a1 are:\n",
      "1 2 3 0 0 \n",
      "[Version 2] The contents of a1 are:\n",
      "1 2 3 0 0 "
     ]
    }
   ],
   "source": [
    "# 1. Initialize\n",
    "a0 = [0] * 5\n",
    "a1 = [0] * 5\n",
    "a1[0], a1[1], a1[2] = 1, 2, 3\n",
    "# 2. Get Length\n",
    "print(\"The size of a1 is: \", len(a1))\n",
    "# 3. Access Element\n",
    "print(\"The first element is: \", a1[0])\n",
    "# 4. Iterate all Elements\n",
    "print(\"[Version 1] The contents of a1 are:\")\n",
    "for i in range(len(a1)):\n",
    "   print(a1[i], end = ' ')\n",
    "print()   \n",
    "print(\"[Version 2] The contents of a1 are:\")\n",
    "for item in a1:\n",
    "   print(item, end = ' ')\n",
    "# 5. Modify Element\n",
    "a1[0] = 4\n",
    "# 6. Sort\n",
    "a1.sort()"
   ]
  },
  {
   "cell_type": "markdown",
   "id": "a0c55917",
   "metadata": {},
   "source": [
    "# Introduction to Dynamic Array\n",
    "\n",
    "As we mentioned in the previous article, an array has __a fixed capacity__ and we need to specify the size of the array when we initialize it. Sometimes this will be somewhat inconvenient and wasteful.\n",
    "\n",
    "Therefore, most programming languages offer built-in __dynamic array__ which is still a random access list data structure but with __variable size__. For example, we have __vector__ in C++ and __ArrayList__ in Java."
   ]
  },
  {
   "cell_type": "code",
   "execution_count": 7,
   "id": "1c61df18",
   "metadata": {},
   "outputs": [
    {
     "ename": "SyntaxError",
     "evalue": "invalid syntax (2619144819.py, line 1)",
     "output_type": "error",
     "traceback": [
      "\u001b[1;36m  Input \u001b[1;32mIn [7]\u001b[1;36m\u001b[0m\n\u001b[1;33m    // \"static void main\" must be defined in a public class.\u001b[0m\n\u001b[1;37m    ^\u001b[0m\n\u001b[1;31mSyntaxError\u001b[0m\u001b[1;31m:\u001b[0m invalid syntax\n"
     ]
    }
   ],
   "source": [
    "# Java\n",
    "// \"static void main\" must be defined in a public class.\n",
    "public class Main {\n",
    "    public static void main(String[] args) {\n",
    "        // 1. initialize\n",
    "        List<Integer> v0 = new ArrayList<>();\n",
    "        List<Integer> v1;                           // v1 == null\n",
    "        // 2. cast an array to a vector\n",
    "        Integer[] a = {0, 1, 2, 3, 4};\n",
    "        v1 = new ArrayList<>(Arrays.asList(a));\n",
    "        // 3. make a copy\n",
    "        List<Integer> v2 = v1;                      // another reference to v1\n",
    "        List<Integer> v3 = new ArrayList<>(v1);     // make an actual copy of v1\n",
    "        // 3. get length\n",
    "        System.out.println(\"The size of v1 is: \" + v1.size());\n",
    "        // 4. access element\n",
    "        System.out.println(\"The first element in v1 is: \" + v1.get(0));\n",
    "        // 5. iterate the vector\n",
    "        System.out.print(\"[Version 1] The contents of v1 are:\");\n",
    "        for (int i = 0; i < v1.size(); ++i) {\n",
    "            System.out.print(\" \" + v1.get(i));\n",
    "        }\n",
    "        System.out.println();\n",
    "        System.out.print(\"[Version 2] The contents of v1 are:\");\n",
    "        for (int item : v1) {\n",
    "            System.out.print(\" \" + item);\n",
    "        }\n",
    "        System.out.println();\n",
    "        // 6. modify element\n",
    "        v2.set(0, 5);       // modify v2 will actually modify v1\n",
    "        System.out.println(\"The first element in v1 is: \" + v1.get(0));\n",
    "        v3.set(0, -1);\n",
    "        System.out.println(\"The first element in v1 is: \" + v1.get(0));\n",
    "        // 7. sort\n",
    "        Collections.sort(v1);\n",
    "        // 8. add new element at the end of the vector\n",
    "        v1.add(-1);\n",
    "        v1.add(1, 6);\n",
    "        // 9. delete the last element\n",
    "        v1.remove(v1.size() - 1);\n",
    "    }\n",
    "}"
   ]
  },
  {
   "cell_type": "markdown",
   "id": "715caae7",
   "metadata": {},
   "source": [
    "# 724. Find Pivot Index\n",
    "\n",
    "Given an array of integers nums, calculate the pivot index of this array.\n",
    "\n",
    "The pivot index is the index where the sum of all the numbers strictly to the left of the index is equal to the sum of all the numbers strictly to the index's right.\n",
    "\n",
    "If the index is on the left edge of the array, then the left sum is 0 because there are no elements to the left. This also applies to the right edge of the array.\n",
    "\n",
    "Return the leftmost pivot index. If no such index exists, return -1.\n",
    "\n",
    " \n",
    "\n",
    "Example 1:\n",
    "\n",
    "Input: nums = [1,7,3,6,5,6]\n",
    "\n",
    "Output: 3\n",
    "\n",
    "Explanation:\n",
    "\n",
    "The pivot index is 3.\n",
    "\n",
    "Left sum = nums[0] + nums[1] + nums[2] = 1 + 7 + 3 = 11\n",
    "\n",
    "Right sum = nums[4] + nums[5] = 5 + 6 = 11\n",
    "\n",
    "Example 2:\n",
    "\n",
    "Input: nums = [1,2,3]\n",
    "\n",
    "Output: -1\n",
    "\n",
    "Explanation:\n",
    "\n",
    "There is no index that satisfies the conditions in the problem statement.\n",
    "\n",
    "Example 3:\n",
    "\n",
    "Input: nums = [2,1,-1]\n",
    "\n",
    "Output: 0\n",
    "\n",
    "Explanation:\n",
    "\n",
    "The pivot index is 0.\n",
    "\n",
    "Left sum = 0 (no elements to the left of index 0)\n",
    "\n",
    "Right sum = nums[1] + nums[2] = 1 + -1 = 0"
   ]
  },
  {
   "cell_type": "code",
   "execution_count": 8,
   "id": "543876a2",
   "metadata": {},
   "outputs": [
    {
     "name": "stdout",
     "output_type": "stream",
     "text": [
      "3\n"
     ]
    }
   ],
   "source": [
    "class Solution(object):\n",
    "    def pivotIndex(self, nums):\n",
    "        \"\"\"\n",
    "        :type nums: List[int]\n",
    "        :rtype: int\n",
    "        \"\"\"\n",
    "        for i in range(len(nums)):\n",
    "            if sum(nums[:i]) == sum(nums[i+1:]):\n",
    "                return i \n",
    "        return -1\n",
    "\n",
    "print(Solution().pivotIndex([1,7,3,6,5,6]))"
   ]
  },
  {
   "cell_type": "code",
   "execution_count": 10,
   "id": "e96aa024",
   "metadata": {},
   "outputs": [
    {
     "name": "stdout",
     "output_type": "stream",
     "text": [
      "3\n"
     ]
    }
   ],
   "source": [
    "class Solution(object):\n",
    "    def pivotIndex(self, nums):\n",
    "        \"\"\"\n",
    "        :type nums: List[int]\n",
    "        :rtype: int\n",
    "        \"\"\"\n",
    "        sumLeft = 0\n",
    "        sumRight = sum(nums)\n",
    "        for idx, i in enumerate(nums):\n",
    "            sumLeft += i\n",
    "            if sumLeft == sumRight:\n",
    "                return idx\n",
    "            sumRight -= i\n",
    "        return -1\n",
    "    \n",
    "print(Solution().pivotIndex([1,7,3,6,5,6]))"
   ]
  },
  {
   "cell_type": "code",
   "execution_count": 9,
   "id": "29163daa",
   "metadata": {},
   "outputs": [
    {
     "name": "stdout",
     "output_type": "stream",
     "text": [
      "3\n"
     ]
    }
   ],
   "source": [
    "# leetcode solution\n",
    "class Solution(object):\n",
    "    def pivotIndex(self, nums):\n",
    "        S = sum(nums)\n",
    "        leftsum = 0\n",
    "        for i, x in enumerate(nums):\n",
    "            if leftsum == (S - leftsum - x):\n",
    "                return i\n",
    "            leftsum += x\n",
    "        return -1\n",
    "    \n",
    "print(Solution().pivotIndex([1,7,3,6,5,6]))"
   ]
  },
  {
   "cell_type": "markdown",
   "id": "5abf3158",
   "metadata": {},
   "source": [
    "Complexity Analysis\n",
    "\n",
    "- Time Complexity: O(N), where N is the length of nums.\n",
    "\n",
    "- Space Complexity: O(1), the space used by leftsum and S."
   ]
  },
  {
   "cell_type": "markdown",
   "id": "66747015",
   "metadata": {},
   "source": [
    "# 747. Largest Number At Least Twice of Others\n",
    "\n",
    "You are given an integer array nums where the largest integer is unique.\n",
    "\n",
    "Determine whether the largest element in the array is at least twice as much as every other number in the array. If it is, return the index of the largest element, or return -1 otherwise.\n",
    "\n",
    " \n",
    "\n",
    "Example 1:\n",
    "\n",
    "Input: nums = [3,6,1,0]\n",
    "\n",
    "Output: 1\n",
    "\n",
    "Explanation: 6 is the largest integer.\n",
    "\n",
    "For every other number in the array x, 6 is at least twice as big as x.\n",
    "\n",
    "The index of value 6 is 1, so we return 1.\n",
    "\n",
    "Example 2:\n",
    "\n",
    "Input: nums = [1,2,3,4]\n",
    "\n",
    "Output: -1\n",
    "\n",
    "Explanation: 4 is less than twice the value of 3, so we return -1."
   ]
  },
  {
   "cell_type": "code",
   "execution_count": 17,
   "id": "76601c71",
   "metadata": {},
   "outputs": [
    {
     "name": "stdout",
     "output_type": "stream",
     "text": [
      "1\n"
     ]
    }
   ],
   "source": [
    "class Solution(object):\n",
    "    def dominantIndex(self, nums):\n",
    "        \"\"\"\n",
    "        :type nums: List[int]\n",
    "        :rtype: int\n",
    "        \"\"\"\n",
    "        maxNum1 = max(nums)\n",
    "        maxNdx = nums.index(maxNum1)\n",
    "        nums.remove(maxNum1)\n",
    "        maxNum2 = max(nums)\n",
    "        return maxNdx if maxNum1 >= maxNum2 * 2 else -1\n",
    "    \n",
    "print(Solution().dominantIndex([3,6,1,0]))"
   ]
  },
  {
   "cell_type": "code",
   "execution_count": 12,
   "id": "fb4d610f",
   "metadata": {},
   "outputs": [
    {
     "name": "stdout",
     "output_type": "stream",
     "text": [
      "1\n"
     ]
    }
   ],
   "source": [
    "class Solution(object):\n",
    "    def dominantIndex(self, nums):\n",
    "        \"\"\"\n",
    "        :type nums: List[int]\n",
    "        :rtype: int\n",
    "        \"\"\"\n",
    "        maxNum = maxNdx = 0\n",
    "        for m in range(len(nums)):\n",
    "            if nums[m] > maxNum:\n",
    "                maxNdx = m\n",
    "                maxNum = nums[m]\n",
    "               \n",
    "        for x in range(len(nums)):\n",
    "            if nums[x] != maxNum and maxNum < 2 * nums[x]:\n",
    "                return -1\n",
    "        return maxNdx  \n",
    "    \n",
    "print(Solution().dominantIndex([3,6,1,0]))"
   ]
  },
  {
   "cell_type": "code",
   "execution_count": 18,
   "id": "6c22e3bf",
   "metadata": {},
   "outputs": [
    {
     "name": "stdout",
     "output_type": "stream",
     "text": [
      "1\n"
     ]
    }
   ],
   "source": [
    "class Solution(object):\n",
    "    def dominantIndex(self, nums):\n",
    "        \"\"\"\n",
    "        :type nums: List[int]\n",
    "        :rtype: int\n",
    "        \"\"\"\n",
    "        max1 = max2 = 0\n",
    "         \n",
    "        for num in nums:\n",
    "            if num > max1:\n",
    "                max2, max1 = max1, num\n",
    "            elif num > max2:\n",
    "                max2 = num\n",
    "                \n",
    "        return nums.index(max1) if max1 >= max2 * 2 else -1  \n",
    "    \n",
    "print(Solution().dominantIndex([3,6,1,0]))"
   ]
  },
  {
   "cell_type": "markdown",
   "id": "234c7b8f",
   "metadata": {},
   "source": [
    "# 66. Plus One\n",
    "\n",
    "You are given a large integer represented as an integer array digits, where each digits[i] is the ith digit of the integer. The digits are ordered from most significant to least significant in left-to-right order. The large integer does not contain any leading 0's.\n",
    "\n",
    "Increment the large integer by one and return the resulting array of digits.\n",
    "\n",
    " \n",
    "\n",
    "Example 1:\n",
    "\n",
    "Input: digits = [1,2,3]\n",
    "\n",
    "Output: [1,2,4]\n",
    "\n",
    "Explanation: The array represents the integer 123.\n",
    "\n",
    "Incrementing by one gives 123 + 1 = 124.\n",
    "\n",
    "Thus, the result should be [1,2,4].\n",
    "\n",
    "Example 2:\n",
    "\n",
    "Input: digits = [4,3,2,1]\n",
    "\n",
    "Output: [4,3,2,2]\n",
    "\n",
    "Explanation: The array represents the integer 4321.\n",
    "\n",
    "Incrementing by one gives 4321 + 1 = 4322.\n",
    "\n",
    "Thus, the result should be [4,3,2,2].\n",
    "\n",
    "Example 3:\n",
    "\n",
    "Input: digits = [9]\n",
    "\n",
    "Output: [1,0]\n",
    "\n",
    "Explanation: The array represents the integer 9.\n",
    "\n",
    "Incrementing by one gives 9 + 1 = 10.\n",
    "\n",
    "Thus, the result should be [1,0]."
   ]
  },
  {
   "cell_type": "code",
   "execution_count": 22,
   "id": "845bf680",
   "metadata": {},
   "outputs": [
    {
     "name": "stdout",
     "output_type": "stream",
     "text": [
      "[1, 0]\n"
     ]
    }
   ],
   "source": [
    "class Solution(object):\n",
    "    def plusOne(self, digits):\n",
    "        \"\"\"\n",
    "        :type digits: List[int]\n",
    "        :rtype: List[int]\n",
    "        \"\"\"\n",
    "        num = ''\n",
    "        for i in digits: num += str(i)\n",
    "        return [int(n) for n in str(int(num)+1)]\n",
    "               \n",
    "print(Solution().plusOne([9]))"
   ]
  },
  {
   "cell_type": "code",
   "execution_count": 21,
   "id": "0c229d82",
   "metadata": {},
   "outputs": [
    {
     "name": "stdout",
     "output_type": "stream",
     "text": [
      "[1, 2, 4]\n"
     ]
    }
   ],
   "source": [
    "class Solution:\n",
    "    def plusOne(self, digits):\n",
    "        for i in range(len(digits)):\n",
    "            if digits[~i] < 9:\n",
    "                digits[~i] += 1\n",
    "                return digits\n",
    "            digits[~i] = 0\n",
    "        return [1] + [0] * len(digits) \n",
    "               \n",
    "print(Solution().plusOne([1,2,3]))"
   ]
  },
  {
   "cell_type": "markdown",
   "id": "86884eb4",
   "metadata": {},
   "source": [
    "- Can you please explain me what does __\"~\"__ operator do in python?\n",
    "- it's \"bitwise NOT\" operator. basically __~0 = -1__,  __~1 = -2__,  __~2 = -3__, so you can use it to count from the end of array starting with 0 just like from the begginning of the array but with the tilde up front."
   ]
  },
  {
   "cell_type": "code",
   "execution_count": 23,
   "id": "aed59dc8",
   "metadata": {},
   "outputs": [
    {
     "name": "stdout",
     "output_type": "stream",
     "text": [
      "[4, 3, 2, 2]\n"
     ]
    }
   ],
   "source": [
    "class Solution(object):\n",
    "    def plusOne(self, digits):\n",
    "        \"\"\"\n",
    "        :type digits: List[int]\n",
    "        :rtype: List[int]\n",
    "        \"\"\"\n",
    "        return [int(x) for x in str(int(''.join(map(str, digits))) + 1)]\n",
    "               \n",
    "print(Solution().plusOne([4,3,2,1]))"
   ]
  },
  {
   "cell_type": "markdown",
   "id": "a2041cbd",
   "metadata": {},
   "source": [
    "# Introduction to 2D Array\n",
    "\n",
    "Similar to a one-dimensional array, a __two-dimensional array__ also consists of a sequence of elements. But the elements can be laid out in a __rectangular grid__ rather than a line."
   ]
  },
  {
   "attachments": {
    "image.png": {
     "image/png": "[encoded data removed]"
    }
   },
   "cell_type": "markdown",
   "id": "53e87726",
   "metadata": {},
   "source": [
    "![image.png](attachment:image.png)"
   ]
  },
  {
   "cell_type": "code",
   "execution_count": null,
   "id": "7904f3f0",
   "metadata": {},
   "outputs": [],
   "source": [
    "// \"static void main\" must be defined in a public class.\n",
    "public class Main {\n",
    "    private static void printArray(int[][] a) {\n",
    "        for (int i = 0; i < a.length; ++i) {\n",
    "            System.out.println(a[i]);\n",
    "        }\n",
    "        for (int i = 0; i < a.length; ++i) {\n",
    "            for (int j = 0; a[i] != null && j < a[i].length; ++j) {\n",
    "                System.out.print(a[i][j] + \" \");\n",
    "            }\n",
    "            System.out.println();\n",
    "        }\n",
    "    }\n",
    "    public static void main(String[] args) {\n",
    "        System.out.println(\"Example I:\");\n",
    "        int[][] a = new int[2][5];\n",
    "        printArray(a);\n",
    "        System.out.println(\"Example II:\");\n",
    "        int[][] b = new int[2][];\n",
    "        printArray(b);\n",
    "        System.out.println(\"Example III:\");\n",
    "        b[0] = new int[3];\n",
    "        b[1] = new int[5];\n",
    "        printArray(b);\n",
    "    }\n",
    "}"
   ]
  },
  {
   "attachments": {
    "image.png": {
     "image/png": "[encoded data removed]"
    }
   },
   "cell_type": "markdown",
   "id": "1d3778a6",
   "metadata": {},
   "source": [
    "# 498. Diagonal Traverse\n",
    "\n",
    "Given an m x n matrix mat, return an array of all the elements of the array in a diagonal order.\n",
    "\n",
    "Example 1:\n",
    "![image.png](attachment:image.png)\n",
    "\n",
    "Input: mat = [[1,2,3],[4,5,6],[7,8,9]]\n",
    "\n",
    "Output: [1,2,4,7,5,3,6,8,9]\n",
    "\n",
    "Example 2:\n",
    "\n",
    "Input: mat = [[1,2],[3,4]]\n",
    "\n",
    "Output: [1,2,3,4]"
   ]
  },
  {
   "cell_type": "code",
   "execution_count": 2,
   "id": "4b1db131",
   "metadata": {},
   "outputs": [
    {
     "name": "stdout",
     "output_type": "stream",
     "text": [
      "[1, 2, 5, 9, 6, 3, 4, 7, 10, 11, 8, 12]\n"
     ]
    }
   ],
   "source": [
    "class Solution(object):\n",
    "    def findDiagonalOrder(self, mat):\n",
    "        \"\"\"\n",
    "        :type mat: List[List[int]]\n",
    "        :rtype: List[int]\n",
    "        \"\"\"\n",
    "        m, n= len(mat), len(mat[0])\n",
    "        diags = [[] for _ in range(m+n-1)]\n",
    "        for i in range(m):\n",
    "            for j in range(n):\n",
    "                diags[i+j].append(mat[i][j])\n",
    "            \n",
    "        res = diags[0]\n",
    "        for d in range(1, len(diags)):\n",
    "            if d % 2 == 1:\n",
    "                res.extend(diags[d])\n",
    "            else:\n",
    "                res.extend(diags[d][::-1])\n",
    "      \n",
    "        return res     \n",
    "      \n",
    "print(Solution().findDiagonalOrder([[1,2,3,4],[5,6,7,8],[9,10,11,12]]))"
   ]
  },
  {
   "cell_type": "code",
   "execution_count": 3,
   "id": "5ee313c0",
   "metadata": {},
   "outputs": [
    {
     "name": "stdout",
     "output_type": "stream",
     "text": [
      "[1, 2, 4, 7, 5, 3, 6, 8, 9]\n"
     ]
    }
   ],
   "source": [
    "import collections\n",
    "class Solution(object):\n",
    "    def findDiagonalOrder(self, matrix):\n",
    "        \"\"\"\n",
    "        :type matrix: List[List[int]]\n",
    "        :rtype: List[int]\n",
    "        \"\"\"\n",
    "        result = [ ]\n",
    "        dd = collections.defaultdict(list)\n",
    "        if not matrix: return result\n",
    "        # Step 1: Numbers are grouped by the diagonals.\n",
    "        # Numbers in same diagonal have same value of row+col\n",
    "        for i in range(0, len(matrix)):\n",
    "            for j in range(0, len(matrix[0])):\n",
    "                dd[i+j+1].append(matrix[i][j]) # starting indices from 1, hence i+j+1.\n",
    "        # Step 2: Place diagonals in the result list.\n",
    "        # But remember to reverse numbers in odd diagonals.\n",
    "        for k in sorted(dd.keys()):\n",
    "            if k%2==1: dd[k].reverse()\n",
    "            result += dd[k]\n",
    "        return result\n",
    "         \n",
    "print(Solution().findDiagonalOrder([[1,2,3],\n",
    "                                    [4,5,6],\n",
    "                                    [7,8,9]]))"
   ]
  },
  {
   "cell_type": "code",
   "execution_count": 4,
   "id": "8ddb728c",
   "metadata": {},
   "outputs": [
    {
     "name": "stdout",
     "output_type": "stream",
     "text": [
      "[1, 2, 5, 9, 6, 3, 4, 7, 10, 11, 8, 12]\n"
     ]
    }
   ],
   "source": [
    "class Solution(object):\n",
    "    def findDiagonalOrder(self, mat):\n",
    "        \"\"\"\n",
    "        :type mat: List[List[int]]\n",
    "        :rtype: List[int]\n",
    "        \"\"\"\n",
    "        '''\n",
    "          0 [1, 2, 3, 4, 5, 6],\n",
    "          1 [7, 8, 9, 0, 1, 2],\n",
    "          2 [3, 4, 5, 6, 7, 8],\n",
    "          3 [9, 0, 1, 2, 3, 4],\n",
    "          4 [5, 6, 7, 8, 9, 0],\n",
    "          5 [1, 2, 3, 4, 5, 6]\n",
    "        '''\n",
    "        '''\n",
    "        if UP: \n",
    "            want to move in diagnol direction upwards\n",
    "                col += 1\n",
    "                row -= 1\n",
    "            if no more diagnols upwards( if row < 0 and col > cols)\n",
    "                Then need to move position and change direction\n",
    "                    if at end of column\n",
    "                        move down\n",
    "                    else if at any other part\n",
    "                        move to the right\n",
    "                    set direction to down\n",
    "        if Down:\n",
    "            want to move in diagnol direction upwards\n",
    "                col -= 1\n",
    "                row += 1\n",
    "            if no more diagnols downwards( if col < 0 and row > rows)\n",
    "                Then need to move position and change direction\n",
    "                    if at end of row\n",
    "                        move Right\n",
    "                    else if at any other part\n",
    "                        move Down\n",
    "                    set direction to Up\n",
    "        '''\n",
    "\n",
    "        rows = len(mat)\n",
    "        cols = len(mat[0])\n",
    "\n",
    "        row = 0\n",
    "        col = 0\n",
    "\n",
    "        res = []\n",
    "        up = True\n",
    "\n",
    "        while col < cols and row < rows:\n",
    "\n",
    "            if up:\n",
    "                while row >= 0 and col < cols:\n",
    "                    res.append(mat[row][col])\n",
    "                    row -= 1\n",
    "                    col += 1\n",
    "                if col == cols:\n",
    "                    row += 2\n",
    "                    col -= 1\n",
    "                else:\n",
    "                    row += 1\n",
    "                \n",
    "                up = False\n",
    "            \n",
    "            else:\n",
    "                while col >= 0 and row < rows:\n",
    "                    res.append(mat[row][col])\n",
    "                    col -= 1\n",
    "                    row += 1\n",
    "                if row == rows:\n",
    "                    col += 2\n",
    "                    row -= 1\n",
    "                else:\n",
    "                    col += 1\n",
    "\n",
    "                up = True\n",
    "            \n",
    "        return res\n",
    "\n",
    "print(Solution().findDiagonalOrder([[1,2,3,4],[5,6,7,8],[9,10,11,12]]))"
   ]
  },
  {
   "cell_type": "code",
   "execution_count": 5,
   "id": "e25f8773",
   "metadata": {},
   "outputs": [
    {
     "name": "stdout",
     "output_type": "stream",
     "text": [
      "[1, 2, 4, 7, 5, 3, 6, 8, 9]\n"
     ]
    }
   ],
   "source": [
    "class Solution(object):\n",
    "    def findDiagonalOrder(self, mat):\n",
    "        \"\"\"\n",
    "        :type mat: List[List[int]]\n",
    "        :rtype: List[int]\n",
    "        \"\"\"\n",
    "        m, n = len(mat), len(mat[0])\n",
    "        result = []\n",
    "        r, c = 0, 0\n",
    "        for _ in range(m * n):\n",
    "            result.append(mat[r][c])\n",
    "            if (r + c) % 2:\n",
    "                # going down\n",
    "                if r == m - 1:\n",
    "                    c += 1\n",
    "                elif c == 0:\n",
    "                    r += 1\n",
    "                else:\n",
    "                    r += 1\n",
    "                    c -= 1\n",
    "            else:\n",
    "                # going up\n",
    "                if c == n - 1:\n",
    "                    r += 1\n",
    "                elif r == 0:\n",
    "                    c += 1            \n",
    "                else:\n",
    "                    r -= 1\n",
    "                    c += 1    \n",
    "        return result\n",
    "\n",
    "        \"\"\"\n",
    "        res = []\n",
    "        m, n = len(mat), len(mat[0])\n",
    "        for s in range(m + n - 1):\n",
    "            arr = []\n",
    "            for r in range(min(m, s+1)-1 , -1, -1):\n",
    "                c = s - r\n",
    "                if c >= n:\n",
    "                    break\n",
    "                arr.append(mat[r][c])\n",
    "            res.extend(arr if s % 2 == 0 else arr[::-1])\n",
    "        return res        \n",
    "        \"\"\"\n",
    "\n",
    "print(Solution().findDiagonalOrder([[1,2,3],\n",
    "                                    [4,5,6],\n",
    "                                    [7,8,9]]))"
   ]
  },
  {
   "attachments": {
    "image.png": {
     "image/png": "[encoded data removed]"
    }
   },
   "cell_type": "markdown",
   "id": "61d7a494",
   "metadata": {},
   "source": [
    "![image.png](attachment:image.png)"
   ]
  },
  {
   "cell_type": "code",
   "execution_count": 6,
   "id": "54d1b795",
   "metadata": {},
   "outputs": [
    {
     "name": "stdout",
     "output_type": "stream",
     "text": [
      "[1, 2, 4, 7, 5, 3, 6, 8, 9]\n"
     ]
    }
   ],
   "source": [
    "class Solution:\n",
    "    \n",
    "    def findDiagonalOrder(self, matrix):\n",
    "        \n",
    "        # Check for empty matrices\n",
    "        if not matrix or not matrix[0]:\n",
    "            return []\n",
    "        \n",
    "        # Variables to track the size of the matrix\n",
    "        N, M = len(matrix), len(matrix[0])\n",
    "        \n",
    "        # The two arrays as explained in the algorithm\n",
    "        result, intermediate = [], []\n",
    "        \n",
    "        # We have to go over all the elements in the first\n",
    "        # row and the last column to cover all possible diagonals\n",
    "        for d in range(N + M - 1):\n",
    "            \n",
    "            # Clear the intermediate array everytime we start\n",
    "            # to process another diagonal\n",
    "            intermediate.clear()\n",
    "            \n",
    "            # We need to figure out the \"head\" of this diagonal\n",
    "            # The elements in the first row and the last column\n",
    "            # are the respective heads.\n",
    "            r = 0 if d < M else d - M + 1\n",
    "            c = d if d < M else M - 1\n",
    "            \n",
    "            # Iterate until one of the indices goes out of scope\n",
    "            # Take note of the index math to go down the diagonal\n",
    "            while r < N and c > -1:\n",
    "                intermediate.append(matrix[r][c])\n",
    "                r += 1\n",
    "                c -= 1\n",
    "            \n",
    "            # Reverse even numbered diagonals. The\n",
    "            # article says we have to reverse odd \n",
    "            # numbered articles but here, the numbering\n",
    "            # is starting from 0 :P\n",
    "            if d % 2 == 0:\n",
    "                result.extend(intermediate[::-1])\n",
    "            else:\n",
    "                result.extend(intermediate)\n",
    "        return result  \n",
    "               \n",
    "print(Solution().findDiagonalOrder([[1,2,3],\n",
    "                                    [4,5,6],\n",
    "                                    [7,8,9]]))      "
   ]
  },
  {
   "cell_type": "code",
   "execution_count": 7,
   "id": "00b453ca",
   "metadata": {},
   "outputs": [
    {
     "name": "stdout",
     "output_type": "stream",
     "text": [
      "[1, 2, 4, 7, 5, 3, 6, 8, 9]\n"
     ]
    }
   ],
   "source": [
    "class Solution:\n",
    "    \n",
    "    def findDiagonalOrder(self, matrix):\n",
    "        \n",
    "        # Check for an empty matrix\n",
    "        if not matrix or not matrix[0]:\n",
    "            return []\n",
    "        \n",
    "        # The dimensions of the matrix\n",
    "        N, M = len(matrix), len(matrix[0])\n",
    "        \n",
    "        # Incides that will help us progress through \n",
    "        # the matrix, one element at a time.\n",
    "        row, column = 0, 0\n",
    "        \n",
    "        # As explained in the article, this is the variable\n",
    "        # that helps us keep track of what direction we are\n",
    "        # processing the current diaonal\n",
    "        direction = 1\n",
    "        \n",
    "        # Final result array that will contain all the elements\n",
    "        # of the matrix\n",
    "        result = []\n",
    "        \n",
    "        # The uber while loop which will help us iterate over all\n",
    "        # the elements in the array.\n",
    "        while row < N and column < M:\n",
    "            \n",
    "            # First and foremost, add the current element to \n",
    "            # the result matrix. \n",
    "            result.append(matrix[row][column])\n",
    "            \n",
    "            # Move along in the current diagonal depending upon\n",
    "            # the current direction.[i, j] -> [i - 1, j + 1] if \n",
    "            # going up and [i, j] -> [i + 1][j - 1] if going down.\n",
    "            new_row = row + (-1 if direction == 1 else 1)\n",
    "            new_column = column + (1 if direction == 1 else -1)\n",
    "            \n",
    "            # Checking if the next element in the diagonal is within the\n",
    "            # bounds of the matrix or not. If it's not within the bounds,\n",
    "            # we have to find the next head. \n",
    "            if new_row < 0 or new_row == N or new_column < 0 or new_column == M:\n",
    "                \n",
    "                # If the current diagonal was going in the upwards\n",
    "                # direction.\n",
    "                if direction:\n",
    "                    \n",
    "                    # For an upwards going diagonal having [i, j] as its tail\n",
    "                    # If [i, j + 1] is within bounds, then it becomes\n",
    "                    # the next head. Otherwise, the element directly below\n",
    "                    # i.e. the element [i + 1, j] becomes the next head\n",
    "                    row += (column == M - 1)\n",
    "                    column += (column < M - 1)\n",
    "                else:\n",
    "                    \n",
    "                    # For a downwards going diagonal having [i, j] as its tail\n",
    "                    # if [i + 1, j] is within bounds, then it becomes\n",
    "                    # the next head. Otherwise, the element directly below\n",
    "                    # i.e. the element [i, j + 1] becomes the next head\n",
    "                    column += (row == N - 1)\n",
    "                    row += (row < N - 1)\n",
    "                    \n",
    "                # Flip the direction\n",
    "                direction = 1 - direction        \n",
    "            else:\n",
    "                row = new_row\n",
    "                column = new_column\n",
    "                        \n",
    "        return result                 \n",
    "               \n",
    "print(Solution().findDiagonalOrder([[1,2,3],\n",
    "                                    [4,5,6],\n",
    "                                    [7,8,9]]))      "
   ]
  },
  {
   "attachments": {
    "image-2.png": {
     "image/png": "[encoded data removed]"
    },
    "image.png": {
     "image/png": "[encoded data removed]"
    }
   },
   "cell_type": "markdown",
   "id": "056f3e4d",
   "metadata": {},
   "source": [
    "# 54. Spiral Matrix\n",
    "\n",
    "Given an m x n matrix, return all elements of the matrix in spiral order.\n",
    "\n",
    "Example 1:\n",
    "![image.png](attachment:image.png)\n",
    "\n",
    "Input: matrix = [[1,2,3],[4,5,6],[7,8,9]]\n",
    "\n",
    "Output: [1,2,3,6,9,8,7,4,5]\n",
    "\n",
    "Example 2:\n",
    "![image-2.png](attachment:image-2.png)\n",
    "\n",
    "Input: matrix = [[1,2,3,4],[5,6,7,8],[9,10,11,12]]\n",
    "\n",
    "Output: [1,2,3,4,8,12,11,10,9,5,6,7]"
   ]
  },
  {
   "cell_type": "code",
   "execution_count": 5,
   "id": "7a85fcc5",
   "metadata": {},
   "outputs": [
    {
     "name": "stdout",
     "output_type": "stream",
     "text": [
      "[1, 2, 3, 6, 9, 8, 7, 4, 5]\n"
     ]
    }
   ],
   "source": [
    "def spiralOrder(self, matrix):\n",
    "    return matrix and list(matrix.pop(0)) + self.spiralOrder(zip(*matrix)[::-1])\n",
    "print(Solution().spiralOrder([[1,2,3],[4,5,6],[7,8,9]]))"
   ]
  },
  {
   "cell_type": "markdown",
   "id": "4bea809e",
   "metadata": {},
   "source": [
    "    |1 2 3|      |6 9|      |8 7|      |4|  =>  |5|  =>  ||\n",
    "    |4 5 6|  =>  |5 8|  =>  |5 4|  =>  |5|\n",
    "    |7 8 9|      |4 7|"
   ]
  },
  {
   "cell_type": "markdown",
   "id": "855b844d",
   "metadata": {},
   "source": [
    "    |1 2 3|      |6 9|      |8 7|      |4|      |5|"
   ]
  },
  {
   "cell_type": "markdown",
   "id": "2eac7d9b",
   "metadata": {},
   "source": [
    "  spiral_order([[1, 2, 3],\n",
    "                [4, 5, 6],\n",
    "                [7, 8, 9]])\n",
    "\n",
    "= [1, 2, 3] + spiral_order([[6, 9],\n",
    "                            [5, 8],\n",
    "                            [4, 7]])\n",
    "\n",
    "= [1, 2, 3] + [6, 9] + spiral_order([[8, 7],\n",
    "                                     [5, 4]])\n",
    "\n",
    "= [1, 2, 3] + [6, 9] + [8, 7] + spiral_order([[4],\n",
    "                                              [5]])\n",
    "\n",
    "= [1, 2, 3] + [6, 9] + [8, 7] + [4] + spiral_order([[5]])\n",
    "\n",
    "= [1, 2, 3] + [6, 9] + [8, 7] + [4] + [5] + spiral_order([])\n",
    "\n",
    "= [1, 2, 3] + [6, 9] + [8, 7] + [4] + [5] + []\n",
    "\n",
    "= [1, 2, 3, 6, 9, 8, 7, 4, 5]"
   ]
  },
  {
   "cell_type": "code",
   "execution_count": 6,
   "id": "949652e5",
   "metadata": {},
   "outputs": [
    {
     "name": "stdout",
     "output_type": "stream",
     "text": [
      "[1, 2, 3, 4, 8, 12, 11, 10, 9, 5, 6, 7]\n"
     ]
    }
   ],
   "source": [
    "class Solution(object):\n",
    "    def spiralOrder(self, matrix):\n",
    "        \"\"\"\n",
    "        :type matrix: List[List[int]]\n",
    "        :rtype: List[int]\n",
    "        \"\"\"\n",
    "        res = []\n",
    "        start_row, end_row = 0, len(matrix)\n",
    "        start_col, end_col = 0, len(matrix[0])\n",
    "      \n",
    "        while start_row < end_row and start_col < end_col:\n",
    "            #right\n",
    "            for i in range(start_col, end_col):\n",
    "                res.append(matrix[start_row][i])\n",
    "            start_row += 1\n",
    "            #down\n",
    "            for i in range(start_row, end_row):\n",
    "                res.append(matrix[i][end_col-1])\n",
    "            end_col -= 1\n",
    "            if not (start_row < end_row and start_col < end_col):\n",
    "                break\n",
    "            #left\n",
    "            for i in range(end_col-1, start_col-1, -1):\n",
    "                res.append(matrix[end_row-1][i])\n",
    "            end_row -= 1\n",
    "            #up\n",
    "            for i in range(end_row-1, start_row-1, -1):\n",
    "                res.append(matrix[i][start_col])\n",
    "            start_col += 1\n",
    "      \n",
    "        return res \n",
    "    \n",
    "print(Solution().spiralOrder([[1,2,3,4],[5,6,7,8],[9,10,11,12]]))"
   ]
  },
  {
   "cell_type": "code",
   "execution_count": 7,
   "id": "7353d2ea",
   "metadata": {},
   "outputs": [
    {
     "name": "stdout",
     "output_type": "stream",
     "text": [
      "[1, 2, 3, 4, 8, 12, 11, 10, 9, 5, 6, 7]\n"
     ]
    }
   ],
   "source": [
    "class Solution(object):\n",
    "    def spiralOrder(self, matrix):\n",
    "        result = []\n",
    "        while matrix:\n",
    "            result += matrix.pop(0) # 1\n",
    "\n",
    "            if matrix and matrix[0]: # 2 \n",
    "                for line in matrix:\n",
    "                    result.append(line.pop())\n",
    "\n",
    "            if matrix: # 3\n",
    "                result += matrix.pop()[::-1]\n",
    "\n",
    "            if matrix and matrix[0]: # 4\n",
    "                for line in matrix[::-1]:\n",
    "                    result.append(line.pop(0))\n",
    "        return result\n",
    "    \n",
    "print(Solution().spiralOrder([[1,2,3,4],[5,6,7,8],[9,10,11,12]]))"
   ]
  },
  {
   "attachments": {
    "image.png": {
     "image/png": "[encoded data removed]"
    }
   },
   "cell_type": "markdown",
   "id": "bb3495be",
   "metadata": {},
   "source": [
    "# 118. Pascal's Triangle\n",
    "\n",
    "Given an integer , return the first numRows of Pascal's triangle.numRows\n",
    "\n",
    "In Pascal's triangle, each number is the sum of the two numbers directly above it as shown:\n",
    "![image.png](attachment:image.png)\n",
    "\n",
    "Example 1:\n",
    "\n",
    "Input: numRows = 5\n",
    "\n",
    "Output: [[1],[1,1],[1,2,1],[1,3,3,1],[1,4,6,4,1]]\n",
    "\n",
    "Example 2:\n",
    "\n",
    "Input: numRows = 1\n",
    "\n",
    "Output: [[1]]"
   ]
  },
  {
   "cell_type": "code",
   "execution_count": 1,
   "id": "8128d58c",
   "metadata": {},
   "outputs": [
    {
     "name": "stdout",
     "output_type": "stream",
     "text": [
      "[[1], [1, 1], [1, 2, 1], [1, 3, 3, 1], [1, 4, 6, 4, 1]]\n"
     ]
    }
   ],
   "source": [
    "class Solution(object):\n",
    "    def generate(self, numRows):\n",
    "        \"\"\"\n",
    "        :type numRows: int\n",
    "        :rtype: List[List[int]]\n",
    "        \"\"\"\n",
    "        res = []\n",
    "        for i in range(numRows):\n",
    "            temp_res = []\n",
    "            for j in range(i+1):\n",
    "                if j == 0 or j == i:\n",
    "                    temp_res.append(1)\n",
    "                else:\n",
    "                    temp_res.append(res[i-1][j-1] + res[i-1][j])\n",
    "            res.append(temp_res)\n",
    "         \n",
    "        return res\n",
    "               \n",
    "print(Solution().generate(5))      "
   ]
  },
  {
   "cell_type": "code",
   "execution_count": 2,
   "id": "e262e833",
   "metadata": {},
   "outputs": [
    {
     "name": "stdout",
     "output_type": "stream",
     "text": [
      "[[1], [1, 1], [1, 2, 1], [1, 3, 3, 1], [1, 4, 6, 4, 1]]\n"
     ]
    }
   ],
   "source": [
    "class Solution(object):\n",
    "    def generate(self, numRows):\n",
    "        \"\"\"\n",
    "        :type numRows: int\n",
    "        :rtype: List[List[int]]\n",
    "        \"\"\"\n",
    "        ans = []\n",
    "        for i in range(1, numRows + 1):\n",
    "            row = [1] * i\n",
    "            for j in range(1,i-1):\n",
    "                row[j] = ans[i - 2][j] + ans[i - 2][j - 1]\n",
    "            ans.append(row)\n",
    "        return ans\n",
    "               \n",
    "print(Solution().generate(5))  "
   ]
  },
  {
   "cell_type": "code",
   "execution_count": 4,
   "id": "a5bb6730",
   "metadata": {},
   "outputs": [
    {
     "name": "stdout",
     "output_type": "stream",
     "text": [
      "[[1], [1, 1], [1, 2, 1], [1, 3, 3, 1], [1, 4, 6, 4, 1]]\n"
     ]
    }
   ],
   "source": [
    "def generate(numRows):\n",
    "    pascal = [[1] * i for i in range(1, numRows+1)]\n",
    "    for i in range(2, numRows):\n",
    "        for j in range(1, i):\n",
    "            pascal[i][j] = pascal[i-1][j-1] + pascal[i-1][j]\n",
    "    return pascal\n",
    "               \n",
    "print(generate(5))  "
   ]
  },
  {
   "cell_type": "code",
   "execution_count": 5,
   "id": "3192e75e",
   "metadata": {},
   "outputs": [
    {
     "name": "stdout",
     "output_type": "stream",
     "text": [
      "[[1], [1, 1], [1, 2, 1], [1, 3, 3, 1], [1, 4, 6, 4, 1]]\n"
     ]
    }
   ],
   "source": [
    "def generate(numRows):\n",
    "    return [[1], [1, 1], [1, 2, 1], [1, 3, 3, 1], [1, 4, 6, 4, 1], [1, 5, 10, 10, 5, 1], [1, 6, 15, 20, 15, 6, 1], [1, 7, 21, 35, 35, 21, 7, 1], [1, 8, 28, 56, 70, 56, 28, 8, 1], [1, 9, 36, 84, 126, 126, 84, 36, 9, 1], [1, 10, 45, 120, 210, 252, 210, 120, 45, 10, 1], [1, 11, 55, 165, 330, 462, 462, 330, 165, 55, 11, 1], [1, 12, 66, 220, 495, 792, 924, 792, 495, 220, 66, 12, 1], [1, 13, 78, 286, 715, 1287, 1716, 1716, 1287, 715, 286, 78, 13, 1], [1, 14, 91, 364, 1001, 2002, 3003, 3432, 3003, 2002, 1001, 364, 91, 14, 1], [1, 15, 105, 455, 1365, 3003, 5005, 6435, 6435, 5005, 3003, 1365, 455, 105, 15, 1], [1, 16, 120, 560, 1820, 4368, 8008, 11440, 12870, 11440, 8008, 4368, 1820, 560, 120, 16, 1], [1, 17, 136, 680, 2380, 6188, 12376, 19448, 24310, 24310, 19448, 12376, 6188, 2380, 680, 136, 17, 1], [1, 18, 153, 816, 3060, 8568, 18564, 31824, 43758, 48620, 43758, 31824, 18564, 8568, 3060, 816, 153, 18, 1], [1, 19, 171, 969, 3876, 11628, 27132, 50388, 75582, 92378, 92378, 75582, 50388, 27132, 11628, 3876, 969, 171, 19, 1], [1, 20, 190, 1140, 4845, 15504, 38760, 77520, 125970, 167960, 184756, 167960, 125970, 77520, 38760, 15504, 4845, 1140, 190, 20, 1], [1, 21, 210, 1330, 5985, 20349, 54264, 116280, 203490, 293930, 352716, 352716, 293930, 203490, 116280, 54264, 20349, 5985, 1330, 210, 21, 1], [1, 22, 231, 1540, 7315, 26334, 74613, 170544, 319770, 497420, 646646, 705432, 646646, 497420, 319770, 170544, 74613, 26334, 7315, 1540, 231, 22, 1], [1, 23, 253, 1771, 8855, 33649, 100947, 245157, 490314, 817190, 1144066, 1352078, 1352078, 1144066, 817190, 490314, 245157, 100947, 33649, 8855, 1771, 253, 23, 1], [1, 24, 276, 2024, 10626, 42504, 134596, 346104, 735471, 1307504, 1961256, 2496144, 2704156, 2496144, 1961256, 1307504, 735471, 346104, 134596, 42504, 10626, 2024, 276, 24, 1], [1, 25, 300, 2300, 12650, 53130, 177100, 480700, 1081575, 2042975, 3268760, 4457400, 5200300, 5200300, 4457400, 3268760, 2042975, 1081575, 480700, 177100, 53130, 12650, 2300, 300, 25, 1], [1, 26, 325, 2600, 14950, 65780, 230230, 657800, 1562275, 3124550, 5311735, 7726160, 9657700, 10400600, 9657700, 7726160, 5311735, 3124550, 1562275, 657800, 230230, 65780, 14950, 2600, 325, 26, 1], [1, 27, 351, 2925, 17550, 80730, 296010, 888030, 2220075, 4686825, 8436285, 13037895, 17383860, 20058300, 20058300, 17383860, 13037895, 8436285, 4686825, 2220075, 888030, 296010, 80730, 17550, 2925, 351, 27, 1], [1, 28, 378, 3276, 20475, 98280, 376740, 1184040, 3108105, 6906900, 13123110, 21474180, 30421755, 37442160, 40116600, 37442160, 30421755, 21474180, 13123110, 6906900, 3108105, 1184040, 376740, 98280, 20475, 3276, 378, 28, 1], [1, 29, 406, 3654, 23751, 118755, 475020, 1560780, 4292145, 10015005, 20030010, 34597290, 51895935, 67863915, 77558760, 77558760, 67863915, 51895935, 34597290, 20030010, 10015005, 4292145, 1560780, 475020, 118755, 23751, 3654, 406, 29, 1]][:numRows]\n",
    "               \n",
    "print(generate(5))  "
   ]
  },
  {
   "cell_type": "markdown",
   "id": "43566afd",
   "metadata": {},
   "source": [
    "# Introduction to String\n",
    "\n",
    "A string is actually an array of __unicode characters__. You can perform almost all the operations we used in an array. You can try it out by yourself."
   ]
  },
  {
   "cell_type": "markdown",
   "id": "4e5151e1",
   "metadata": {},
   "source": [
    "## Immutable or Mutable\n",
    "__Immutable__ means that you can't change the content of the string once it's initialized.\n",
    "\n",
    "- In some languages (like C++), the string is mutable. That is to say, you can modify the string just like what you did in an array. \n",
    "\n",
    "- In some other languages (like Java), the string is immutable. This feature will bring several problems. We will illustrate the problems and solutions in the next article.\n",
    "\n",
    "You can determine whether the string in your favorite language is __immutable__ or __mutable__ by testing the modification operation. Here is an example:"
   ]
  },
  {
   "cell_type": "code",
   "execution_count": 3,
   "id": "c38b5aa7",
   "metadata": {},
   "outputs": [
    {
     "ename": "TypeError",
     "evalue": "'str' object does not support item assignment",
     "output_type": "error",
     "traceback": [
      "\u001b[1;31m---------------------------------------------------------------------------\u001b[0m",
      "\u001b[1;31mTypeError\u001b[0m                                 Traceback (most recent call last)",
      "Input \u001b[1;32mIn [3]\u001b[0m, in \u001b[0;36m<cell line: 2>\u001b[1;34m()\u001b[0m\n\u001b[0;32m      1\u001b[0m string \u001b[38;5;241m=\u001b[39m \u001b[38;5;124m\"\u001b[39m\u001b[38;5;124mHello world!\u001b[39m\u001b[38;5;124m\"\u001b[39m\n\u001b[1;32m----> 2\u001b[0m string[\u001b[38;5;241m5\u001b[39m] \u001b[38;5;241m=\u001b[39m \u001b[38;5;124m\"\u001b[39m\u001b[38;5;124m,\u001b[39m\u001b[38;5;124m\"\u001b[39m\n",
      "\u001b[1;31mTypeError\u001b[0m: 'str' object does not support item assignment"
     ]
    }
   ],
   "source": [
    "string = \"Hello world!\"\n",
    "string[5] = \",\""
   ]
  },
  {
   "cell_type": "markdown",
   "id": "83b89c09",
   "metadata": {},
   "source": [
    "### so as u see Strings are Immutable in Python !\n",
    "\n",
    "### Obviously, an immutable string cannot be modified. If you want to modify just one of the characters, you have to create a new string."
   ]
  },
  {
   "cell_type": "markdown",
   "id": "8e43bef4",
   "metadata": {},
   "source": [
    "## String Concatenation"
   ]
  },
  {
   "cell_type": "code",
   "execution_count": 23,
   "id": "d497b82e",
   "metadata": {},
   "outputs": [
    {
     "name": "stdout",
     "output_type": "stream",
     "text": [
      "Alhamdulillah Alhamdulillah Alhamdulillah Alhamdulillah Alhamdulillah Alhamdulillah Alhamdulillah Alhamdulillah Alhamdulillah Alhamdulillah Alhamdulillah Alhamdulillah Alhamdulillah Alhamdulillah Alhamdulillah Alhamdulillah Alhamdulillah Alhamdulillah Alhamdulillah Alhamdulillah Alhamdulillah Alhamdulillah Alhamdulillah Alhamdulillah Alhamdulillah Alhamdulillah Alhamdulillah Alhamdulillah Alhamdulillah Alhamdulillah Alhamdulillah Alhamdulillah Alhamdulillah Alhamdulillah Alhamdulillah Alhamdulillah Alhamdulillah Alhamdulillah Alhamdulillah Alhamdulillah Alhamdulillah Alhamdulillah Alhamdulillah Alhamdulillah Alhamdulillah Alhamdulillah Alhamdulillah Alhamdulillah Alhamdulillah Alhamdulillah Alhamdulillah Alhamdulillah Alhamdulillah Alhamdulillah Alhamdulillah Alhamdulillah Alhamdulillah Alhamdulillah Alhamdulillah Alhamdulillah Alhamdulillah Alhamdulillah Alhamdulillah Alhamdulillah Alhamdulillah Alhamdulillah Alhamdulillah Alhamdulillah Alhamdulillah Alhamdulillah Alhamdulillah Alhamdulillah Alhamdulillah Alhamdulillah Alhamdulillah Alhamdulillah Alhamdulillah Alhamdulillah Alhamdulillah Alhamdulillah Alhamdulillah Alhamdulillah Alhamdulillah Alhamdulillah Alhamdulillah Alhamdulillah Alhamdulillah Alhamdulillah Alhamdulillah Alhamdulillah Alhamdulillah Alhamdulillah Alhamdulillah Alhamdulillah Alhamdulillah Alhamdulillah Alhamdulillah Alhamdulillah Alhamdulillah Alhamdulillah Alhamdulillah \n"
     ]
    }
   ],
   "source": [
    "s = ''\n",
    "n = 101\n",
    "for i in range(n):\n",
    "    s += 'Alhamdulillah '\n",
    "    \n",
    "print(s)"
   ]
  },
  {
   "cell_type": "markdown",
   "id": "708ffcc5",
   "metadata": {},
   "source": [
    "### Binary - The SIMPLEST explanation of Counting and Converting Binary numbers\n",
    "https://www.youtube.com/watch?v=RrJXLdv1i74"
   ]
  },
  {
   "cell_type": "markdown",
   "id": "0f859c29",
   "metadata": {},
   "source": [
    "# 67. Add Binary\n",
    "\n",
    "Given two binary strings a and b, return their sum as a binary string.\n",
    "\n",
    "\n",
    "Example 1:\n",
    "\n",
    "Input: a = \"11\", b = \"1\"\n",
    "\n",
    "Output: \"100\"\n",
    "\n",
    "Example 2:\n",
    "\n",
    "Input: a = \"1010\", b = \"1011\"\n",
    "\n",
    "Output: \"10101\""
   ]
  },
  {
   "cell_type": "code",
   "execution_count": 21,
   "id": "03673ac7",
   "metadata": {},
   "outputs": [
    {
     "name": "stdout",
     "output_type": "stream",
     "text": [
      "11\n",
      "1\n",
      "100\n"
     ]
    }
   ],
   "source": [
    "class Solution(object):\n",
    "    def addBinary(self, a, b):\n",
    "        \"\"\"\n",
    "        :type a: str\n",
    "        :type b: str\n",
    "        :rtype: str\n",
    "        \"\"\"\n",
    "        res = ''\n",
    "        carry = 0\n",
    "        a, b = a[::-1], b[::-1]\n",
    "        \n",
    "        for i in range(max(len(a), len(b))):\n",
    "            if i < len(a):\n",
    "                digit_a = ord(a[i]) - ord(\"0\")\n",
    "            else: digit_a = 0\n",
    "            if i < len(b):\n",
    "                digit_b = ord(b[i]) - ord(\"0\")\n",
    "            else: digit_b = 0\n",
    "        \n",
    "            total = digit_a + digit_b + carry\n",
    "            char = str(total % 2)\n",
    "            res = char + res\n",
    "            carry = total // 2\n",
    "            \n",
    "        if carry:\n",
    "            res = \"1\" + res\n",
    "            \n",
    "        return res\n",
    "        \n",
    "print(Solution().addBinary(input(), input()))"
   ]
  },
  {
   "cell_type": "code",
   "execution_count": 19,
   "id": "746c5980",
   "metadata": {},
   "outputs": [
    {
     "name": "stdout",
     "output_type": "stream",
     "text": [
      "1010\n",
      "1011\n",
      "10101\n"
     ]
    }
   ],
   "source": [
    "class Solution:\n",
    "    def addBinary(self, a, b):\n",
    "        return bin(int(a, 2) + int(b, 2))[2:]\n",
    "        \n",
    "print(Solution().addBinary(input(), input()))"
   ]
  },
  {
   "cell_type": "code",
   "execution_count": 13,
   "id": "afdb6503",
   "metadata": {},
   "outputs": [
    {
     "name": "stdout",
     "output_type": "stream",
     "text": [
      "100\n"
     ]
    }
   ],
   "source": [
    "class Solution(object):\n",
    "    def addBinary(self, a, b):\n",
    "        \"\"\"\n",
    "        :type a: str\n",
    "        :type b: str\n",
    "        :rtype: str\n",
    "        \"\"\"\n",
    "        sum = int(a, 2) + int(b, 2)\n",
    "        return format(sum, 'b')\n",
    " \n",
    "print(Solution().addBinary(\"11\", \"1\"))"
   ]
  },
  {
   "cell_type": "code",
   "execution_count": 25,
   "id": "e9fd7669",
   "metadata": {},
   "outputs": [
    {
     "name": "stdout",
     "output_type": "stream",
     "text": [
      "11\n",
      "1\n",
      "100\n"
     ]
    }
   ],
   "source": [
    "class Solution(object):\n",
    "    def addBinary(self, a, b):\n",
    "        a = int(a, 2)\n",
    "        b = int(b, 2)\n",
    "        return bin(a + b).replace(\"0b\", \"\")\n",
    "        \n",
    "print(Solution().addBinary(input(), input()))"
   ]
  },
  {
   "cell_type": "code",
   "execution_count": 34,
   "id": "b1edc665",
   "metadata": {},
   "outputs": [
    {
     "name": "stdout",
     "output_type": "stream",
     "text": [
      "1\n",
      "11\n",
      "100\n"
     ]
    }
   ],
   "source": [
    "class Solution:\n",
    "    def addBinary(self, a, b):\n",
    "        carry = 0\n",
    "        result = ''\n",
    "\n",
    "        a = list(a)\n",
    "        b = list(b)\n",
    "\n",
    "        while a or b or carry:\n",
    "            if a:\n",
    "                carry += int(a.pop())\n",
    "            if b:\n",
    "                carry += int(b.pop())\n",
    "\n",
    "            result += str(carry % 2)\n",
    "            carry //= 2\n",
    "\n",
    "        return result[::-1]\n",
    "        \n",
    "print(Solution().addBinary(input(), input()))"
   ]
  },
  {
   "cell_type": "code",
   "execution_count": 16,
   "id": "79e2cfbf",
   "metadata": {},
   "outputs": [
    {
     "data": {
      "text/plain": [
       "1"
      ]
     },
     "execution_count": 16,
     "metadata": {},
     "output_type": "execute_result"
    }
   ],
   "source": [
    "1 % 2"
   ]
  },
  {
   "cell_type": "code",
   "execution_count": 17,
   "id": "57713486",
   "metadata": {},
   "outputs": [
    {
     "data": {
      "text/plain": [
       "0.5"
      ]
     },
     "execution_count": 17,
     "metadata": {},
     "output_type": "execute_result"
    }
   ],
   "source": [
    "1 / 2"
   ]
  },
  {
   "cell_type": "code",
   "execution_count": 18,
   "id": "e61f38ed",
   "metadata": {},
   "outputs": [
    {
     "data": {
      "text/plain": [
       "0"
      ]
     },
     "execution_count": 18,
     "metadata": {},
     "output_type": "execute_result"
    }
   ],
   "source": [
    "1 // 2"
   ]
  },
  {
   "cell_type": "code",
   "execution_count": 1,
   "id": "dc2137b5",
   "metadata": {},
   "outputs": [
    {
     "name": "stdout",
     "output_type": "stream",
     "text": [
      "1\n",
      "11\n",
      "100\n"
     ]
    }
   ],
   "source": [
    "class Solution:\n",
    "    def addBinary(self, a, b):\n",
    "        r = ''\n",
    "        c = 0\n",
    "        a, b = list(a), list(b)\n",
    "        \n",
    "        while a or b or c:\n",
    "            if a:\n",
    "                c += int(a.pop())\n",
    "            if b:\n",
    "                c += int(b.pop())\n",
    "                \n",
    "            r += str(c % 2)\n",
    "            c //= 2 \n",
    "        \n",
    "        return r[::-1]\n",
    "        \n",
    "print(Solution().addBinary(input(), input()))"
   ]
  },
  {
   "cell_type": "markdown",
   "id": "76870ca1",
   "metadata": {},
   "source": [
    "# 28. Find the Index of the First Occurrence in a String\n",
    "\n",
    "Given two strings needle and haystack, return the index of the first occurrence of needle in haystack, or -1 if needle is not part of haystack.\n",
    "\n",
    "Example 1:\n",
    "\n",
    "Input: haystack = \"sadbutsad\", needle = \"sad\"\n",
    "\n",
    "Output: 0\n",
    "\n",
    "Explanation: \"sad\" occurs at index 0 and 6.\n",
    "\n",
    "The first occurrence is at index 0, so we return 0.\n",
    "\n",
    "Example 2:\n",
    "\n",
    "Input: haystack = \"leetcode\", needle = \"leeto\"\n",
    "\n",
    "Output: -1\n",
    "\n",
    "Explanation: \"leeto\" did not occur in \"leetcode\", so we return -1."
   ]
  },
  {
   "cell_type": "code",
   "execution_count": 10,
   "id": "f1b16238",
   "metadata": {},
   "outputs": [
    {
     "name": "stdout",
     "output_type": "stream",
     "text": [
      "0\n"
     ]
    }
   ],
   "source": [
    "class Solution(object):\n",
    "    def strStr(self, haystack, needle):\n",
    "        \"\"\"\n",
    "        :type haystack: str\n",
    "        :type needle: str\n",
    "        :rtype: int\n",
    "        \"\"\"\n",
    "        return haystack.find(needle)\n",
    "    \n",
    "print(Solution().strStr(\"sadbutsad\", \"sad\"))"
   ]
  },
  {
   "cell_type": "code",
   "execution_count": 13,
   "id": "c5b3a565",
   "metadata": {},
   "outputs": [
    {
     "name": "stdout",
     "output_type": "stream",
     "text": [
      "0\n"
     ]
    }
   ],
   "source": [
    "class Solution(object):\n",
    "    def strStr(self, haystack, needle):\n",
    "        \"\"\"\n",
    "        :type haystack: str\n",
    "        :type needle: str\n",
    "        :rtype: int\n",
    "        \"\"\"\n",
    "        return haystack.find(needle) if needle in haystack else -1\n",
    "        \n",
    "print(Solution().strStr(\"sadbutsad\", \"sad\"))"
   ]
  },
  {
   "cell_type": "code",
   "execution_count": 7,
   "id": "c62d5892",
   "metadata": {},
   "outputs": [
    {
     "name": "stdout",
     "output_type": "stream",
     "text": [
      "0\n"
     ]
    }
   ],
   "source": [
    "class Solution(object):\n",
    "    def strStr(self, haystack, needle):\n",
    "        \"\"\"\n",
    "        :type haystack: str\n",
    "        :type needle: str\n",
    "        :rtype: int\n",
    "        \"\"\"\n",
    "        i, j = 0, len(needle)\n",
    "        \n",
    "        while j <= len(haystack):\n",
    "            if haystack[i:j] == needle:\n",
    "                return i\n",
    "            else:\n",
    "                i += 1\n",
    "                j += 1\n",
    "        return -1\n",
    "        \n",
    "print(Solution().strStr(\"sadbutsad\", \"sad\"))"
   ]
  },
  {
   "cell_type": "code",
   "execution_count": 11,
   "id": "36cb7739",
   "metadata": {},
   "outputs": [
    {
     "name": "stdout",
     "output_type": "stream",
     "text": [
      "0\n"
     ]
    }
   ],
   "source": [
    "class Solution(object):\n",
    "    def strStr(self, haystack, needle):\n",
    "        \"\"\"\n",
    "        :type haystack: str\n",
    "        :type needle: str\n",
    "        :rtype: int\n",
    "        \"\"\"\n",
    "        for i in range(len(haystack)):\n",
    "            if haystack[i:].startswith(needle):\n",
    "                return i\n",
    "\n",
    "        return -1\n",
    "        \n",
    "print(Solution().strStr(\"sadbutsad\", \"sad\"))"
   ]
  },
  {
   "cell_type": "code",
   "execution_count": 14,
   "id": "760cc16e",
   "metadata": {},
   "outputs": [
    {
     "name": "stdout",
     "output_type": "stream",
     "text": [
      "0\n"
     ]
    }
   ],
   "source": [
    "# Sliding window\n",
    "class Solution:\n",
    "    def strStr(self, haystack, needle):\n",
    "        m = len(needle)\n",
    "        n = len(haystack)\n",
    "\n",
    "        for window_start in range(n - m + 1):\n",
    "            for i in range(m):\n",
    "                if needle[i] != haystack[window_start + i]:\n",
    "                    break\n",
    "                if i == m - 1:\n",
    "                    return window_start\n",
    "\n",
    "        return -1\n",
    "        \n",
    "print(Solution().strStr(\"sadbutsad\", \"sad\"))"
   ]
  },
  {
   "cell_type": "markdown",
   "id": "c0d54817",
   "metadata": {},
   "source": [
    "# 14. Longest Common Prefix\n",
    "\n",
    "Write a function to find the longest common prefix string amongst an array of strings.\n",
    "\n",
    "If there is no common prefix, return an empty string \"\".\n",
    "\n",
    " \n",
    "\n",
    "Example 1:\n",
    "\n",
    "Input: strs = [\"flower\",\"flow\",\"flight\"]\n",
    "\n",
    "Output: \"fl\"\n",
    "\n",
    "Example 2:\n",
    "\n",
    "Input: strs = [\"dog\",\"racecar\",\"car\"]\n",
    "\n",
    "Output: \"\"\n",
    "\n",
    "Explanation: There is no common prefix among the input strings."
   ]
  },
  {
   "cell_type": "code",
   "execution_count": 1,
   "id": "c8c469bd",
   "metadata": {},
   "outputs": [
    {
     "name": "stdout",
     "output_type": "stream",
     "text": [
      "fl\n"
     ]
    }
   ],
   "source": [
    "class Solution(object):\n",
    "    def longestCommonPrefix(self, strs):\n",
    "        \"\"\"\n",
    "        :type strs: List[str]\n",
    "        :rtype: str\n",
    "        \"\"\"\n",
    "        if strs[0] == \"\":\n",
    "            return ''\n",
    "        strs.sort()\n",
    "        prefix = ''\n",
    "        m = len(min(strs))\n",
    "        i, j = 0, len(strs)-1\n",
    "         \n",
    "        while m:\n",
    "            if strs[0][i] == strs[j][i]:\n",
    "                prefix += strs[0][i]\n",
    "            else: break\n",
    "            i += 1\n",
    "            m -= 1\n",
    "            \n",
    "        return prefix\n",
    "        \n",
    "print(Solution().longestCommonPrefix([\"flower\",\"flow\",\"flight\"]))"
   ]
  },
  {
   "cell_type": "markdown",
   "id": "5490d70c",
   "metadata": {},
   "source": [
    "# 344. Reverse String\n",
    "\n",
    "Write a function that reverses a string. The input string is given as an array of characters s.\n",
    "\n",
    "You must do this by modifying the input array in-place with O(1) extra memory.\n",
    "\n",
    " \n",
    "\n",
    "Example 1:\n",
    "\n",
    "Input: s = [\"h\",\"e\",\"l\",\"l\",\"o\"]\n",
    "\n",
    "Output: [\"o\",\"l\",\"l\",\"e\",\"h\"]\n",
    "\n",
    "Example 2:\n",
    "\n",
    "Input: s = [\"H\",\"a\",\"n\",\"n\",\"a\",\"h\"]\n",
    "\n",
    "Output: [\"h\",\"a\",\"n\",\"n\",\"a\",\"H\"]"
   ]
  },
  {
   "cell_type": "code",
   "execution_count": 1,
   "id": "8afc60a9",
   "metadata": {},
   "outputs": [
    {
     "name": "stdout",
     "output_type": "stream",
     "text": [
      "['o', 'l', 'l', 'e', 'h']\n"
     ]
    }
   ],
   "source": [
    "class Solution(object):\n",
    "    def reverseString(self, s):\n",
    "        \"\"\"\n",
    "        :type s: List[str]\n",
    "        :rtype: None Do not return anything, modify s in-place instead.\n",
    "        \"\"\"\n",
    "        i, j = 0, len(s)-1\n",
    "        \n",
    "        while i < j:\n",
    "            s[i], s[j] = s[j], s[i]\n",
    "            i += 1\n",
    "            j -= 1\n",
    "            \n",
    "        return s\n",
    "            \n",
    "print(Solution().reverseString(['h','e','l','l','o']))"
   ]
  },
  {
   "cell_type": "code",
   "execution_count": 2,
   "id": "0e1e15aa",
   "metadata": {},
   "outputs": [
    {
     "name": "stdout",
     "output_type": "stream",
     "text": [
      "['o', 'l', 'l', 'e', 'h']\n"
     ]
    }
   ],
   "source": [
    "class Solution(object):\n",
    "    def reverseString(self, s):\n",
    "        \"\"\"\n",
    "        :type s: List[str]\n",
    "        :rtype: None Do not return anything, modify s in-place instead.\n",
    "        \"\"\"\n",
    "        s[:] = s[::-1]\n",
    "        \n",
    "        return s\n",
    "            \n",
    "print(Solution().reverseString(['h','e','l','l','o']))"
   ]
  },
  {
   "cell_type": "code",
   "execution_count": 9,
   "id": "c3c163db",
   "metadata": {},
   "outputs": [
    {
     "name": "stdout",
     "output_type": "stream",
     "text": [
      "['o', 'l', 'l', 'e', 'h']\n"
     ]
    }
   ],
   "source": [
    "# Recursion solution\n",
    "class Solution(object):\n",
    "    def reverseString(self, s):\n",
    "        \n",
    "        def rev(i, j, s):\n",
    "            if i >= j:\n",
    "                return \n",
    "            \n",
    "            rev(i + 1, j - 1, s)\n",
    "            s[i], s[j] = s[j], s[i]\n",
    "            \n",
    "        rev(0, len(s) - 1, s)\n",
    "        return s\n",
    "print(Solution().reverseString(['h','e','l','l','o']))"
   ]
  },
  {
   "cell_type": "code",
   "execution_count": 15,
   "id": "516291a3",
   "metadata": {},
   "outputs": [
    {
     "name": "stdout",
     "output_type": "stream",
     "text": [
      "['o', 'l', 'l', 'e', 'h']\n"
     ]
    }
   ],
   "source": [
    "class Solution(object):\n",
    "    def reverseString(self, s):\n",
    "        s = list(reversed(s))\n",
    "        return s        \n",
    "    \n",
    "print(Solution().reverseString(['h','e','l','l','o']))"
   ]
  },
  {
   "cell_type": "markdown",
   "id": "6572df96",
   "metadata": {},
   "source": [
    "# 561. Array Partition\n",
    "\n",
    "Given an integer array nums of 2n integers, group these integers into n pairs (a1, b1), (a2, b2), ..., (an, bn) such that the sum of min(ai, bi) for all i is maximized. Return the maximized sum.\n",
    "\n",
    " \n",
    "\n",
    "Example 1:\n",
    "\n",
    "Input: nums = [1,4,3,2]\n",
    "\n",
    "Output: 4\n",
    "\n",
    "Explanation: All possible pairings (ignoring the ordering of elements) are:\n",
    "\n",
    "1. (1, 4), (2, 3) -> min(1, 4) + min(2, 3) = 1 + 2 = 3\n",
    "\n",
    "2. (1, 3), (2, 4) -> min(1, 3) + min(2, 4) = 1 + 2 = 3\n",
    "\n",
    "3. (1, 2), (3, 4) -> min(1, 2) + min(3, 4) = 1 + 3 = 4\n",
    "\n",
    "So the maximum possible sum is 4.\n",
    "\n",
    "Example 2:\n",
    "\n",
    "Input: nums = [6,2,6,5,1,2]\n",
    "\n",
    "Output: 9\n",
    "\n",
    "Explanation: The optimal pairing is (2, 1), (2, 5), (6, 6). min(2, 1) + min(2, 5) + min(6, 6) = 1 + 2 + 6 = 9."
   ]
  },
  {
   "cell_type": "code",
   "execution_count": 1,
   "id": "1bc0b73c",
   "metadata": {},
   "outputs": [
    {
     "name": "stdout",
     "output_type": "stream",
     "text": [
      "9\n"
     ]
    }
   ],
   "source": [
    "class Solution(object):\n",
    "    def arrayPairSum(self, nums):\n",
    "        \"\"\"\n",
    "        :type nums: List[int]\n",
    "        :rtype: int\n",
    "        \"\"\"\n",
    "        nums.sort()\n",
    "        res = 0\n",
    "        i, j, l = 0, 1, len(nums)\n",
    "        while j < l:\n",
    "            res += min(nums[i], nums[j])\n",
    "            i += 2\n",
    "            j += 2\n",
    "        return res\n",
    "        \n",
    "print(Solution().arrayPairSum([6,2,6,5,1,2]))"
   ]
  },
  {
   "cell_type": "code",
   "execution_count": 2,
   "id": "8fc39153",
   "metadata": {},
   "outputs": [
    {
     "name": "stdout",
     "output_type": "stream",
     "text": [
      "9\n"
     ]
    }
   ],
   "source": [
    "class Solution(object):\n",
    "    def arrayPairSum(self, nums):\n",
    "         # nums.sort()\n",
    "         # a = nums[::2]\n",
    "         # return sum(a)\n",
    "      \n",
    "         return sum(sorted(nums)[::2])\n",
    "        \n",
    "print(Solution().arrayPairSum([6,2,6,5,1,2]))"
   ]
  },
  {
   "cell_type": "code",
   "execution_count": 5,
   "id": "b8c80cb7",
   "metadata": {},
   "outputs": [
    {
     "name": "stdout",
     "output_type": "stream",
     "text": [
      "9\n"
     ]
    }
   ],
   "source": [
    "class Solution:\n",
    "    def arrayPairSum(self, nums):\n",
    "        # Sort the list in ascending order\n",
    "        nums.sort()\n",
    "        # Initialize sum to zero\n",
    "        max_sum = 0\n",
    "        for i in range(0, len(nums), 2):\n",
    "            # Add every element at even positions (0-indexed)\n",
    "            max_sum += nums[i]\n",
    "            \n",
    "        return max_sum\n",
    "        \n",
    "print(Solution().arrayPairSum([6,2,6,5,1,2]))"
   ]
  },
  {
   "cell_type": "code",
   "execution_count": 6,
   "id": "088b5153",
   "metadata": {},
   "outputs": [
    {
     "name": "stdout",
     "output_type": "stream",
     "text": [
      "9\n"
     ]
    }
   ],
   "source": [
    "class Solution:\n",
    "    def arrayPairSum(self, nums):\n",
    "        K = 10000\n",
    "        # Store the frequency of each element\n",
    "        element_to_count = [0] * (2 * K + 1)\n",
    "        for element in nums:\n",
    "            # Add K to element to offset negative values\n",
    "            element_to_count[element + K] += 1\n",
    "            \n",
    "        # Initialize sum to zero\n",
    "        max_sum = 0\n",
    "        is_even_index = True\n",
    "        for element in range(2 * K + 1):\n",
    "            while element_to_count[element] > 0 :\n",
    "                # Add element if it is at even index\n",
    "                if is_even_index:\n",
    "                    max_sum += element - K\n",
    "                # Flip the value (one to zero or zero to one)\n",
    "                is_even_index = not is_even_index;\n",
    "                # Decrement the frequency count\n",
    "                element_to_count[element] -= 1\n",
    "        return max_sum\n",
    "    \n",
    "print(Solution().arrayPairSum([6,2,6,5,1,2]))"
   ]
  },
  {
   "attachments": {
    "image.png": {
     "image/png": "[encoded data removed]"
    }
   },
   "cell_type": "markdown",
   "id": "466e2aa3",
   "metadata": {},
   "source": [
    "![image.png](attachment:image.png)"
   ]
  },
  {
   "cell_type": "markdown",
   "id": "36b0d555",
   "metadata": {},
   "source": [
    "# 167. Two Sum II - Input Array Is Sorted\n",
    "\n",
    "Given a 1-indexed array of integers numbers that is already sorted in non-decreasing order, find two numbers such that they add up to a specific target number. Let these two numbers be numbers[index1] and numbers[index2] where 1 <= index1 < index2 <= numbers.length.\n",
    "\n",
    "Return the indices of the two numbers, index1 and index2, added by one as an integer array [index1, index2] of length 2.\n",
    "\n",
    "The tests are generated such that there is exactly one solution. You may not use the same element twice.\n",
    "\n",
    "Your solution must use only constant extra space.\n",
    "\n",
    " \n",
    "\n",
    "Example 1:\n",
    "\n",
    "Input: numbers = [2,7,11,15], target = 9\n",
    "\n",
    "Output: [1,2]\n",
    "\n",
    "Explanation: The sum of 2 and 7 is 9. Therefore, index1 = 1, index2 = 2. We return [1, 2].\n",
    "\n",
    "Example 2:\n",
    "\n",
    "Input: numbers = [2,3,4], target = 6\n",
    "\n",
    "Output: [1,3]\n",
    "\n",
    "Explanation: The sum of 2 and 4 is 6. Therefore index1 = 1, index2 = 3. We return [1, 3].\n",
    "\n",
    "Example 3:\n",
    "\n",
    "Input: numbers = [-1,0], target = -1\n",
    "\n",
    "Output: [1,2]\n",
    "\n",
    "Explanation: The sum of -1 and 0 is -1. Therefore index1 = 1, index2 = 2. We return [1, 2]."
   ]
  },
  {
   "cell_type": "code",
   "execution_count": 4,
   "id": "4d13d60f",
   "metadata": {},
   "outputs": [
    {
     "name": "stdout",
     "output_type": "stream",
     "text": [
      "(1, 2)\n"
     ]
    }
   ],
   "source": [
    "# two-pointers\n",
    "class Solution(object):\n",
    "    def twoSum(self, numbers, target):\n",
    "        \"\"\"\n",
    "        :type numbers: List[int]\n",
    "        :type target: int\n",
    "        :rtype: List[int]\n",
    "        \"\"\"\n",
    "        l, r = 0, len(numbers)-1\n",
    "        while l < r:\n",
    "            sum_ = numbers[l] + numbers[r]\n",
    "            if sum_ > target:\n",
    "                r -= 1\n",
    "            elif sum_ < target:\n",
    "                l += 1\n",
    "            else:\n",
    "                return (l+1, r+1)\n",
    "             \n",
    "print(Solution().twoSum([2,7,11,15], 9))"
   ]
  },
  {
   "cell_type": "code",
   "execution_count": 5,
   "id": "0e5b70dc",
   "metadata": {},
   "outputs": [
    {
     "name": "stdout",
     "output_type": "stream",
     "text": [
      "[1, 2]\n"
     ]
    }
   ],
   "source": [
    "# dictionary\n",
    "class Solution(object):\n",
    "    def twoSum(self, numbers, target):\n",
    "        \"\"\"\n",
    "        :type numbers: List[int]\n",
    "        :type target: int\n",
    "        :rtype: List[int]\n",
    "        \"\"\"\n",
    "        dict_ = {}\n",
    "        for i, num in enumerate(numbers):\n",
    "            rest = target - num\n",
    "            if rest in dict_:\n",
    "                return [dict_[rest]+1, i+1]\n",
    "            dict_[num] = i\n",
    "             \n",
    "print(Solution().twoSum([2,7,11,15], 9))"
   ]
  },
  {
   "cell_type": "code",
   "execution_count": 7,
   "id": "ee4c2617",
   "metadata": {},
   "outputs": [
    {
     "name": "stdout",
     "output_type": "stream",
     "text": [
      "[1, 2]\n"
     ]
    }
   ],
   "source": [
    "# binary search        \n",
    "def twoSum(numbers, target):\n",
    "    for i in range(len(numbers)):\n",
    "        l, r = i+1, len(numbers)-1\n",
    "        tmp = target - numbers[i]\n",
    "        while l <= r:\n",
    "            mid = l + (r-l)//2\n",
    "            if numbers[mid] == tmp:\n",
    "                return [i+1, mid+1]\n",
    "            elif numbers[mid] < tmp:\n",
    "                l = mid+1\n",
    "            else:\n",
    "                r = mid-1\n",
    "\n",
    "print(twoSum([2,7,11,15], 9))"
   ]
  },
  {
   "cell_type": "code",
   "execution_count": 14,
   "id": "ce1a7158",
   "metadata": {},
   "outputs": [
    {
     "data": {
      "text/plain": [
       "2"
      ]
     },
     "execution_count": 14,
     "metadata": {},
     "output_type": "execute_result"
    }
   ],
   "source": [
    "# just learning fast and slow two-pointer technique \n",
    "def removeElement(nums, val):\n",
    "    k = 0\n",
    "    for i in range(len(nums)):\n",
    "        if nums[i] != val:\n",
    "            nums[k] = nums[i]\n",
    "            k += 1\n",
    "\n",
    "    return k\n",
    "removeElement([2,7,2,15,2], 2)"
   ]
  },
  {
   "cell_type": "markdown",
   "id": "55529f06",
   "metadata": {},
   "source": [
    "# 209. Minimum Size Subarray Sum\n",
    "\n",
    "Given an array of positive integers nums and a positive integer target, return the minimal length of a \n",
    "subarray\n",
    " whose sum is greater than or equal to target. If there is no such subarray, return 0 instead.\n",
    "\n",
    " \n",
    "\n",
    "Example 1:\n",
    "\n",
    "Input: target = 7, nums = [2,3,1,2,4,3]\n",
    "\n",
    "Output: 2\n",
    "\n",
    "Explanation: The subarray [4,3] has the minimal length under the problem constraint.\n",
    "\n",
    "Example 2:\n",
    "\n",
    "Input: target = 4, nums = [1,4,4]\n",
    "\n",
    "Output: 1\n",
    "\n",
    "Example 3:\n",
    "\n",
    "Input: target = 11, nums = [1,1,1,1,1,1,1,1]\n",
    "\n",
    "Output: 0"
   ]
  },
  {
   "cell_type": "code",
   "execution_count": 10,
   "id": "61a3ce53",
   "metadata": {},
   "outputs": [
    {
     "name": "stdout",
     "output_type": "stream",
     "text": [
      "2\n"
     ]
    }
   ],
   "source": [
    "class Solution(object):\n",
    "    def minSubArrayLen(self, target, nums):\n",
    "        \"\"\"\n",
    "        :type target: int\n",
    "        :type nums: List[int]\n",
    "        :rtype: int\n",
    "        \"\"\"\n",
    "        min_len = float('inf')\n",
    "        left = cur_sum = 0\n",
    "        for right, num in enumerate(nums):\n",
    "            cur_sum += num\n",
    "            while cur_sum >= target:\n",
    "                min_len = min(min_len, right - left + 1)\n",
    "                cur_sum -= nums[left]\n",
    "                left += 1\n",
    "\n",
    "        return min_len if min_len != float('inf') else 0\n",
    "    \n",
    "print(Solution().minSubArrayLen(7, [2,3,1,2,4,3]))"
   ]
  },
  {
   "cell_type": "code",
   "execution_count": 5,
   "id": "e38d21d5",
   "metadata": {},
   "outputs": [
    {
     "name": "stdout",
     "output_type": "stream",
     "text": [
      "2\n"
     ]
    }
   ],
   "source": [
    "class Solution(object):\n",
    "    def minSubArrayLen(self, target, nums):\n",
    "        \"\"\"\n",
    "        :type target: int\n",
    "        :type nums: List[int]\n",
    "        :rtype: int\n",
    "        \"\"\"\n",
    "\n",
    "        res = float(\"inf\")\n",
    "\n",
    "        l = local = 0\n",
    "        \n",
    "        for r in range(len(nums)):\n",
    "            local += nums[r]\n",
    "\n",
    "            while local >= target:\n",
    "                res = min(r-l+1, res)\n",
    "                local -= nums[l]\n",
    "                l += 1\n",
    "                \n",
    "        return res if res != float(\"inf\") else 0\n",
    "\n",
    "print(Solution().minSubArrayLen(7, [2,3,1,2,4,3]))"
   ]
  },
  {
   "cell_type": "code",
   "execution_count": 8,
   "id": "bcad755b",
   "metadata": {},
   "outputs": [
    {
     "name": "stdout",
     "output_type": "stream",
     "text": [
      "2\n"
     ]
    }
   ],
   "source": [
    "class Solution(object):\n",
    "    def minSubArrayLen(self, target, nums):\n",
    "        \"\"\"\n",
    "        :type target: int\n",
    "        :type nums: List[int]\n",
    "        :rtype: int\n",
    "        \"\"\"\n",
    "        res = []\n",
    "        l, r = 0, 1\n",
    "        if sum(nums[::]) < target:\n",
    "            return 0\n",
    "        while r <= len(nums):\n",
    "            if sum(nums[l:r]) < target:\n",
    "                r += 1\n",
    "            elif sum(nums[l:r]) >= target:\n",
    "                res.append(r - l)\n",
    "                l += 1\n",
    "\n",
    "        return min(res)\n",
    "    \n",
    "print(Solution().minSubArrayLen(7, [2,3,1,2,4,3]))"
   ]
  },
  {
   "cell_type": "markdown",
   "id": "848435a0",
   "metadata": {},
   "source": [
    "# 189. Rotate Array\n",
    "\n",
    "Given an integer array nums, rotate the array to the right by k steps, where k is non-negative.\n",
    "\n",
    " \n",
    "\n",
    "Example 1:\n",
    "\n",
    "Input: nums = [1,2,3,4,5,6,7], k = 3\n",
    "\n",
    "Output: [5,6,7,1,2,3,4]\n",
    "\n",
    "Explanation:\n",
    "\n",
    "rotate 1 steps to the right: [7,1,2,3,4,5,6]\n",
    "\n",
    "rotate 2 steps to the right: [6,7,1,2,3,4,5]\n",
    "\n",
    "rotate 3 steps to the right: [5,6,7,1,2,3,4]\n",
    "\n",
    "Example 2:\n",
    "\n",
    "Input: nums = [-1,-100,3,99], k = 2\n",
    "\n",
    "Output: [3,99,-1,-100]\n",
    "\n",
    "Explanation: \n",
    "\n",
    "rotate 1 steps to the right: [99,-1,-100,3]\n",
    "\n",
    "rotate 2 steps to the right: [3,99,-1,-100]"
   ]
  },
  {
   "cell_type": "code",
   "execution_count": 19,
   "id": "cc33da44",
   "metadata": {},
   "outputs": [
    {
     "name": "stdout",
     "output_type": "stream",
     "text": [
      "[5, 6, 7, 1, 2, 3, 4]\n"
     ]
    }
   ],
   "source": [
    "# non in-place (not accepted)\n",
    "class Solution(object):\n",
    "    def rotate(self, nums, k):\n",
    "        \"\"\"\n",
    "        :type nums: List[int]\n",
    "        :type k: int\n",
    "        :rtype: None Do not return anything, modify nums in-place instead.\n",
    "        \"\"\"\n",
    "        k = k % len(nums) \n",
    "        nums[:] = nums[-k:] + nums[:-k]\n",
    "          \n",
    "        return nums\n",
    "    \n",
    "print(Solution().rotate([1,2,3,4,5,6,7], 3))"
   ]
  },
  {
   "cell_type": "code",
   "execution_count": 17,
   "id": "3a3c42a4",
   "metadata": {},
   "outputs": [
    {
     "name": "stdout",
     "output_type": "stream",
     "text": [
      "[5, 6, 7, 1, 2, 3, 4]\n"
     ]
    }
   ],
   "source": [
    "# non in-place (not accepted)\n",
    "class Solution(object):\n",
    "    def rotate(self, nums, k):\n",
    "        \"\"\"\n",
    "        :type nums: List[int]\n",
    "        :type k: int\n",
    "        :rtype: None Do not return anything, modify nums in-place instead.\n",
    "        \"\"\"\n",
    "        r = len(nums)-1\n",
    "        for i in range(k):\n",
    "            nums.insert(0, nums[r])\n",
    "            nums.pop()\n",
    "        \n",
    "        return nums\n",
    "    \n",
    "print(Solution().rotate([1,2,3,4,5,6,7], 3))"
   ]
  },
  {
   "cell_type": "code",
   "execution_count": 16,
   "id": "db51ba4c",
   "metadata": {},
   "outputs": [
    {
     "name": "stdout",
     "output_type": "stream",
     "text": [
      "[5, 6, 7, 1, 2, 3, 4]\n"
     ]
    }
   ],
   "source": [
    "# non in-place (not accepted)\n",
    "class Solution(object):\n",
    "    def rotate(self, nums, k):\n",
    "        \"\"\"\n",
    "        :type nums: List[int]\n",
    "        :type k: int\n",
    "        :rtype: None Do not return anything, modify nums in-place instead.\n",
    "        \"\"\"\n",
    "        for i in range(k):\n",
    "            for j in range(len(nums)-1,-1,-1):\n",
    "                if j == 0: break\n",
    "                nums[j], nums[j-1] = nums[j-1], nums[j]\n",
    "        \n",
    "        return nums\n",
    "    \n",
    "print(Solution().rotate([1,2,3,4,5,6,7], 3))"
   ]
  },
  {
   "attachments": {
    "image.png": {
     "image/png": "[encoded data removed]"
    }
   },
   "cell_type": "markdown",
   "id": "6ad211d0",
   "metadata": {},
   "source": [
    "# 119. Pascal's Triangle II\n",
    "\n",
    "Given an integer rowIndex, return the rowIndexth (0-indexed) row of the Pascal's triangle.\n",
    "\n",
    "In Pascal's triangle, each number is the sum of the two numbers directly above it as shown:\n",
    "\n",
    "![image.png](attachment:image.png)\n",
    "\n",
    "Example 1:\n",
    "\n",
    "Input: rowIndex = 3\n",
    "\n",
    "Output: [1,3,3,1]\n",
    "\n",
    "Example 2:\n",
    "\n",
    "Input: rowIndex = 0\n",
    "\n",
    "Output: [1]\n",
    "\n",
    "Example 3:\n",
    "\n",
    "Input: rowIndex = 1\n",
    "\n",
    "Output: [1,1]"
   ]
  },
  {
   "cell_type": "code",
   "execution_count": 3,
   "id": "d878150b",
   "metadata": {},
   "outputs": [
    {
     "name": "stdout",
     "output_type": "stream",
     "text": [
      "[1, 3, 3, 1]\n"
     ]
    }
   ],
   "source": [
    "class Solution(object):\n",
    "    def getRow(self, rowIndex):\n",
    "        \"\"\"\n",
    "        :type rowIndex: int\n",
    "        :rtype: List[int]\n",
    "        \"\"\"\n",
    "        res = []\n",
    "        for i in range(rowIndex + 1):\n",
    "            row = []\n",
    "            for j in range(i+1):\n",
    "                if j == 0 or j == i:\n",
    "                    row.append(1)\n",
    "                else:\n",
    "                    row.append(res[i-1][j-1] + res[i-1][j])\n",
    "            res.append(row)\n",
    "                    \n",
    "        return res[3]\n",
    "        \n",
    "print(Solution().getRow(3))"
   ]
  },
  {
   "cell_type": "code",
   "execution_count": 4,
   "id": "d558ea4c",
   "metadata": {},
   "outputs": [
    {
     "name": "stdout",
     "output_type": "stream",
     "text": [
      "[1, 3, 3, 1]\n"
     ]
    }
   ],
   "source": [
    "class Solution(object):\n",
    "    def getRow(self, rowIndex):\n",
    "        \"\"\"\n",
    "        :type rowIndex: int\n",
    "        :rtype: List[int]\n",
    "        \"\"\"\n",
    "        row = [1]\n",
    "        for i in range(1, rowIndex+1):\n",
    "            # compute the i-th element of the current row\n",
    "            element = row[-1] * (rowIndex-i+1) // i\n",
    "            row.append(element)\n",
    "        return row\n",
    "        \n",
    "print(Solution().getRow(3))"
   ]
  },
  {
   "cell_type": "code",
   "execution_count": 5,
   "id": "176febaa",
   "metadata": {},
   "outputs": [
    {
     "name": "stdout",
     "output_type": "stream",
     "text": [
      "[1, 3, 3, 1]\n"
     ]
    }
   ],
   "source": [
    "class Solution(object):\n",
    "    def getRow(self, rowIndex):\n",
    "        \"\"\"\n",
    "        :type rowIndex: int\n",
    "        :rtype: List[int]\n",
    "        \"\"\"\n",
    "        row = [1]\n",
    "        for _ in range(rowIndex):\n",
    "            row = [x + y for x, y in zip([0]+row, row+[0])]\n",
    "        return row\n",
    "        \n",
    "print(Solution().getRow(3))"
   ]
  },
  {
   "cell_type": "markdown",
   "id": "1eeb960a",
   "metadata": {},
   "source": [
    "# 151. Reverse Words in a String\n",
    "\n",
    "Given an input string s, reverse the order of the words.\n",
    "\n",
    "A word is defined as a sequence of non-space characters. The words in s will be separated by at least one space.\n",
    "\n",
    "Return a string of the words in reverse order concatenated by a single space.\n",
    "\n",
    "Note that s may contain leading or trailing spaces or multiple spaces between two words. The returned string should only have a single space separating the words. Do not include any extra spaces.\n",
    "\n",
    " \n",
    "\n",
    "Example 1:\n",
    "\n",
    "Input: s = \"the sky is blue\"\n",
    "\n",
    "Output: \"blue is sky the\"\n",
    "\n",
    "Example 2:\n",
    "\n",
    "Input: s = \"  hello world  \"\n",
    "\n",
    "Output: \"world hello\"\n",
    "\n",
    "Explanation: Your reversed string should not contain leading or trailing spaces.\n",
    "\n",
    "Example 3:\n",
    "\n",
    "Input: s = \"a good   example\"\n",
    "\n",
    "Output: \"example good a\"\n",
    "\n",
    "Explanation: You need to reduce multiple spaces between two words to a single space in the reversed string."
   ]
  },
  {
   "cell_type": "code",
   "execution_count": 7,
   "id": "b7677137",
   "metadata": {},
   "outputs": [
    {
     "name": "stdout",
     "output_type": "stream",
     "text": [
      "blue is sky the\n"
     ]
    }
   ],
   "source": [
    "class Solution(object):\n",
    "    def reverseWords(self, s):\n",
    "        \"\"\"\n",
    "        :type s: str\n",
    "        :rtype: str\n",
    "        \"\"\"\n",
    "        return \" \".join(s.split()[::-1])\n",
    "    \n",
    "print(Solution().reverseWords('the sky is blue'))"
   ]
  },
  {
   "cell_type": "code",
   "execution_count": 2,
   "id": "b1e182e7",
   "metadata": {},
   "outputs": [
    {
     "name": "stdout",
     "output_type": "stream",
     "text": [
      "blue is sky the\n"
     ]
    }
   ],
   "source": [
    "class Solution(object):\n",
    "    def reverseWords(self, s):\n",
    "        \"\"\"\n",
    "        :type s: str\n",
    "        :rtype: str\n",
    "        \"\"\"\n",
    "        s = s.split()\n",
    "        l, r = 0, len(s)-1\n",
    "        while l < r:\n",
    "            s[l], s[r] = s[r], s[l]\n",
    "            r -= 1\n",
    "            l += 1\n",
    "        return \" \".join(s)\n",
    "    \n",
    "print(Solution().reverseWords('the sky is blue'))"
   ]
  },
  {
   "cell_type": "markdown",
   "id": "be37e8d8",
   "metadata": {},
   "source": [
    "# 557. Reverse Words in a String III\n",
    "\n",
    "Given a string s, reverse the order of characters in each word within a sentence while still preserving whitespace and initial word order.\n",
    "\n",
    "\n",
    "Example 1:\n",
    "\n",
    "Input: s = \"Let's take LeetCode contest\"\n",
    "\n",
    "Output: \"s'teL ekat edoCteeL tsetnoc\"\n",
    "\n",
    "Example 2:\n",
    "\n",
    "Input: s = \"God Ding\"\n",
    "\n",
    "Output: \"doG gniD\""
   ]
  },
  {
   "cell_type": "code",
   "execution_count": 10,
   "id": "b0521fce",
   "metadata": {},
   "outputs": [
    {
     "name": "stdout",
     "output_type": "stream",
     "text": [
      "s'teL ekat edoCteeL tsetnoc\n"
     ]
    }
   ],
   "source": [
    "class Solution(object):\n",
    "    def reverseWords(self, s):\n",
    "        \"\"\"\n",
    "        :type s: str\n",
    "        :rtype: str\n",
    "        \"\"\"\n",
    "        s = s.split()\n",
    "        for i in range(len(s)):\n",
    "            s[i] = s[i][::-1]\n",
    "                      \n",
    "        return ' '.join(s)\n",
    "        \n",
    "print(Solution().reverseWords(\"Let's take LeetCode contest\"))"
   ]
  },
  {
   "cell_type": "code",
   "execution_count": 11,
   "id": "8c72e6e6",
   "metadata": {},
   "outputs": [
    {
     "name": "stdout",
     "output_type": "stream",
     "text": [
      "s'teL ekat edoCteeL tsetnoc\n"
     ]
    }
   ],
   "source": [
    "class Solution(object):\n",
    "    def reverseWords(self, s):\n",
    "        \"\"\"\n",
    "        :type s: str\n",
    "        :rtype: str\n",
    "        \"\"\" \n",
    "        return ' '.join([i[::-1] for i in s.split()])\n",
    "        \n",
    "print(Solution().reverseWords(\"Let's take LeetCode contest\"))"
   ]
  },
  {
   "cell_type": "code",
   "execution_count": 8,
   "id": "5e2ba5d9",
   "metadata": {
    "scrolled": true
   },
   "outputs": [
    {
     "name": "stdout",
     "output_type": "stream",
     "text": [
      "s'teL ekat edoCteeL tsetnoc\n"
     ]
    }
   ],
   "source": [
    "class Solution(object):\n",
    "    def reverseWords(self, s):\n",
    "        return \" \".join(s.split()[::-1])[::-1]\n",
    "        \n",
    "print(Solution().reverseWords(\"Let's take LeetCode contest\"))"
   ]
  },
  {
   "cell_type": "code",
   "execution_count": 13,
   "id": "07f0d3c7",
   "metadata": {},
   "outputs": [
    {
     "name": "stdout",
     "output_type": "stream",
     "text": [
      "s'teL ekat edoCteeL tsetnoc\n"
     ]
    }
   ],
   "source": [
    "class Solution(object):\n",
    "    def reverseWords(self, s):\n",
    "        s = s.split()[::-1]\n",
    "        return \" \".join(s)[::-1]\n",
    "        \n",
    "print(Solution().reverseWords(\"Let's take LeetCode contest\"))"
   ]
  },
  {
   "cell_type": "markdown",
   "id": "847857fe",
   "metadata": {},
   "source": [
    "# Finish Alhamdulillah"
   ]
  }
 ],
 "metadata": {
  "kernelspec": {
   "display_name": "Python 3 (ipykernel)",
   "language": "python",
   "name": "python3"
  },
  "language_info": {
   "codemirror_mode": {
    "name": "ipython",
    "version": 3
   },
   "file_extension": ".py",
   "mimetype": "text/x-python",
   "name": "python",
   "nbconvert_exporter": "python",
   "pygments_lexer": "ipython3",
   "version": "3.9.12"
  }
 },
 "nbformat": 4,
 "nbformat_minor": 5
}
